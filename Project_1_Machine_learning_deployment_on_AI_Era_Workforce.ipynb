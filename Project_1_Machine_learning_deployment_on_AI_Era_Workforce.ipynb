{
  "cells": [
    {
      "cell_type": "markdown",
      "metadata": {
        "id": "view-in-github",
        "colab_type": "text"
      },
      "source": [
        "<a href=\"https://colab.research.google.com/github/OmMoradiya21/Machine_learning_deployment_on_AI_Era_Workforce/blob/main/Project_1_Machine_learning_deployment_on_AI_Era_Workforce.ipynb\" target=\"_parent\"><img src=\"https://colab.research.google.com/assets/colab-badge.svg\" alt=\"Open In Colab\"/></a>"
      ]
    },
    {
      "cell_type": "markdown",
      "id": "985f6e25-bf56-42a5-a152-7d7183c22459",
      "metadata": {
        "id": "985f6e25-bf56-42a5-a152-7d7183c22459"
      },
      "source": [
        " # Project 1 Machine Learning deployment  on AI Era Workforce"
      ]
    },
    {
      "cell_type": "code",
      "source": [
        "from google.colab import drive\n",
        "drive.mount('/content/drive')"
      ],
      "metadata": {
        "colab": {
          "base_uri": "https://localhost:8080/"
        },
        "id": "0cvl0bPBaOpH",
        "outputId": "4155bbbe-8e39-4261-937a-8af27a691cc3"
      },
      "id": "0cvl0bPBaOpH",
      "execution_count": null,
      "outputs": [
        {
          "output_type": "stream",
          "name": "stdout",
          "text": [
            "Mounted at /content/drive\n"
          ]
        }
      ]
    },
    {
      "cell_type": "markdown",
      "id": "48c03146-6db3-4434-98f3-70da43ca58f6",
      "metadata": {
        "id": "48c03146-6db3-4434-98f3-70da43ca58f6"
      },
      "source": [
        "## import the require libraries"
      ]
    },
    {
      "cell_type": "code",
      "execution_count": null,
      "id": "f74dd2b8-383f-45f6-b5cc-414fd0561483",
      "metadata": {
        "id": "f74dd2b8-383f-45f6-b5cc-414fd0561483"
      },
      "outputs": [],
      "source": [
        "# import the pandas\n",
        "# this lib help us to convert diff data files into pandas datafram\n",
        "import pandas as pd\n",
        "\n",
        "# import numpy\n",
        "# this library help us to perform numerical opration on diff data structures\n",
        "import numpy as np\n",
        "\n",
        "# import matplotlib and seaborn\n",
        "# this library help us to visualize the diff data structures\n",
        "import matplotlib.pyplot as plt\n",
        "import seaborn as sns"
      ]
    },
    {
      "cell_type": "markdown",
      "id": "2ef3c6c4-0ff9-44f7-b634-24298168ecc0",
      "metadata": {
        "id": "2ef3c6c4-0ff9-44f7-b634-24298168ecc0"
      },
      "source": [
        "## load the data in python environment"
      ]
    },
    {
      "cell_type": "code",
      "execution_count": null,
      "id": "dc1680c3-8b49-40e7-90c8-c2d67c04b8a8",
      "metadata": {
        "id": "dc1680c3-8b49-40e7-90c8-c2d67c04b8a8"
      },
      "outputs": [],
      "source": [
        "# read the data from the local\n",
        "df_AI_ERA_WORKFORCE = pd.read_csv('/content/drive/MyDrive/Colab Notebooks/Data_Sets/ai_era_workforce.csv')"
      ]
    },
    {
      "cell_type": "code",
      "execution_count": null,
      "id": "c496f1c1-260f-47e3-8f6a-2e6cea271c40",
      "metadata": {
        "colab": {
          "base_uri": "https://localhost:8080/",
          "height": 304
        },
        "id": "c496f1c1-260f-47e3-8f6a-2e6cea271c40",
        "outputId": "65dfe39c-2e3c-49e8-9d37-0620b5b41283"
      },
      "outputs": [
        {
          "output_type": "execute_result",
          "data": {
            "text/plain": [
              "     UserID  Age  Gender Country EducationLevel        CurrentJobTitle  \\\n",
              "0  USR-0001   25  Female  France          Other                  Nurse   \n",
              "1  USR-0002   25  Female  Canada    High School         Retail Manager   \n",
              "2  USR-0003   35  Female     USA     Bachelor's        Admin Assistant   \n",
              "3  USR-0004   50  Female      UK     Bachelor's  Marketing Coordinator   \n",
              "4  USR-0005   34  Female      UK    High School         Retail Manager   \n",
              "\n",
              "   YearsOfExperience       Industry  HasAISkills AISkillsList  \\\n",
              "0                  7          Media        False          NaN   \n",
              "1                  1     Healthcare        False          NaN   \n",
              "2                 12          Media        False          NaN   \n",
              "3                 30  Manufacturing        False          NaN   \n",
              "4                 13           Tech        False          NaN   \n",
              "\n",
              "   WillingnessToUpskill  UpskillingActionsTaken  SkillGapScore FutureJobRisk  \\\n",
              "0                     5                       4            0.7          High   \n",
              "1                     5                       4            0.7          High   \n",
              "2                     5                       5            0.7          High   \n",
              "3                     4                       3            0.7        Medium   \n",
              "4                     5                       2            0.7          High   \n",
              "\n",
              "           RecommendedLearningPath LastProfileUpdate  \n",
              "0                  AI for Business        2024-05-04  \n",
              "1          Prompt Engineering, NLP        2023-12-19  \n",
              "2                  AI for Business        2024-04-28  \n",
              "3  Machine Learning, Deep Learning        2023-05-15  \n",
              "4  Machine Learning, Deep Learning        2024-04-30  "
            ],
            "text/html": [
              "\n",
              "  <div id=\"df-090a156a-5953-4353-ba7a-21232ad1da17\" class=\"colab-df-container\">\n",
              "    <div>\n",
              "<style scoped>\n",
              "    .dataframe tbody tr th:only-of-type {\n",
              "        vertical-align: middle;\n",
              "    }\n",
              "\n",
              "    .dataframe tbody tr th {\n",
              "        vertical-align: top;\n",
              "    }\n",
              "\n",
              "    .dataframe thead th {\n",
              "        text-align: right;\n",
              "    }\n",
              "</style>\n",
              "<table border=\"1\" class=\"dataframe\">\n",
              "  <thead>\n",
              "    <tr style=\"text-align: right;\">\n",
              "      <th></th>\n",
              "      <th>UserID</th>\n",
              "      <th>Age</th>\n",
              "      <th>Gender</th>\n",
              "      <th>Country</th>\n",
              "      <th>EducationLevel</th>\n",
              "      <th>CurrentJobTitle</th>\n",
              "      <th>YearsOfExperience</th>\n",
              "      <th>Industry</th>\n",
              "      <th>HasAISkills</th>\n",
              "      <th>AISkillsList</th>\n",
              "      <th>WillingnessToUpskill</th>\n",
              "      <th>UpskillingActionsTaken</th>\n",
              "      <th>SkillGapScore</th>\n",
              "      <th>FutureJobRisk</th>\n",
              "      <th>RecommendedLearningPath</th>\n",
              "      <th>LastProfileUpdate</th>\n",
              "    </tr>\n",
              "  </thead>\n",
              "  <tbody>\n",
              "    <tr>\n",
              "      <th>0</th>\n",
              "      <td>USR-0001</td>\n",
              "      <td>25</td>\n",
              "      <td>Female</td>\n",
              "      <td>France</td>\n",
              "      <td>Other</td>\n",
              "      <td>Nurse</td>\n",
              "      <td>7</td>\n",
              "      <td>Media</td>\n",
              "      <td>False</td>\n",
              "      <td>NaN</td>\n",
              "      <td>5</td>\n",
              "      <td>4</td>\n",
              "      <td>0.7</td>\n",
              "      <td>High</td>\n",
              "      <td>AI for Business</td>\n",
              "      <td>2024-05-04</td>\n",
              "    </tr>\n",
              "    <tr>\n",
              "      <th>1</th>\n",
              "      <td>USR-0002</td>\n",
              "      <td>25</td>\n",
              "      <td>Female</td>\n",
              "      <td>Canada</td>\n",
              "      <td>High School</td>\n",
              "      <td>Retail Manager</td>\n",
              "      <td>1</td>\n",
              "      <td>Healthcare</td>\n",
              "      <td>False</td>\n",
              "      <td>NaN</td>\n",
              "      <td>5</td>\n",
              "      <td>4</td>\n",
              "      <td>0.7</td>\n",
              "      <td>High</td>\n",
              "      <td>Prompt Engineering, NLP</td>\n",
              "      <td>2023-12-19</td>\n",
              "    </tr>\n",
              "    <tr>\n",
              "      <th>2</th>\n",
              "      <td>USR-0003</td>\n",
              "      <td>35</td>\n",
              "      <td>Female</td>\n",
              "      <td>USA</td>\n",
              "      <td>Bachelor's</td>\n",
              "      <td>Admin Assistant</td>\n",
              "      <td>12</td>\n",
              "      <td>Media</td>\n",
              "      <td>False</td>\n",
              "      <td>NaN</td>\n",
              "      <td>5</td>\n",
              "      <td>5</td>\n",
              "      <td>0.7</td>\n",
              "      <td>High</td>\n",
              "      <td>AI for Business</td>\n",
              "      <td>2024-04-28</td>\n",
              "    </tr>\n",
              "    <tr>\n",
              "      <th>3</th>\n",
              "      <td>USR-0004</td>\n",
              "      <td>50</td>\n",
              "      <td>Female</td>\n",
              "      <td>UK</td>\n",
              "      <td>Bachelor's</td>\n",
              "      <td>Marketing Coordinator</td>\n",
              "      <td>30</td>\n",
              "      <td>Manufacturing</td>\n",
              "      <td>False</td>\n",
              "      <td>NaN</td>\n",
              "      <td>4</td>\n",
              "      <td>3</td>\n",
              "      <td>0.7</td>\n",
              "      <td>Medium</td>\n",
              "      <td>Machine Learning, Deep Learning</td>\n",
              "      <td>2023-05-15</td>\n",
              "    </tr>\n",
              "    <tr>\n",
              "      <th>4</th>\n",
              "      <td>USR-0005</td>\n",
              "      <td>34</td>\n",
              "      <td>Female</td>\n",
              "      <td>UK</td>\n",
              "      <td>High School</td>\n",
              "      <td>Retail Manager</td>\n",
              "      <td>13</td>\n",
              "      <td>Tech</td>\n",
              "      <td>False</td>\n",
              "      <td>NaN</td>\n",
              "      <td>5</td>\n",
              "      <td>2</td>\n",
              "      <td>0.7</td>\n",
              "      <td>High</td>\n",
              "      <td>Machine Learning, Deep Learning</td>\n",
              "      <td>2024-04-30</td>\n",
              "    </tr>\n",
              "  </tbody>\n",
              "</table>\n",
              "</div>\n",
              "    <div class=\"colab-df-buttons\">\n",
              "\n",
              "  <div class=\"colab-df-container\">\n",
              "    <button class=\"colab-df-convert\" onclick=\"convertToInteractive('df-090a156a-5953-4353-ba7a-21232ad1da17')\"\n",
              "            title=\"Convert this dataframe to an interactive table.\"\n",
              "            style=\"display:none;\">\n",
              "\n",
              "  <svg xmlns=\"http://www.w3.org/2000/svg\" height=\"24px\" viewBox=\"0 -960 960 960\">\n",
              "    <path d=\"M120-120v-720h720v720H120Zm60-500h600v-160H180v160Zm220 220h160v-160H400v160Zm0 220h160v-160H400v160ZM180-400h160v-160H180v160Zm440 0h160v-160H620v160ZM180-180h160v-160H180v160Zm440 0h160v-160H620v160Z\"/>\n",
              "  </svg>\n",
              "    </button>\n",
              "\n",
              "  <style>\n",
              "    .colab-df-container {\n",
              "      display:flex;\n",
              "      gap: 12px;\n",
              "    }\n",
              "\n",
              "    .colab-df-convert {\n",
              "      background-color: #E8F0FE;\n",
              "      border: none;\n",
              "      border-radius: 50%;\n",
              "      cursor: pointer;\n",
              "      display: none;\n",
              "      fill: #1967D2;\n",
              "      height: 32px;\n",
              "      padding: 0 0 0 0;\n",
              "      width: 32px;\n",
              "    }\n",
              "\n",
              "    .colab-df-convert:hover {\n",
              "      background-color: #E2EBFA;\n",
              "      box-shadow: 0px 1px 2px rgba(60, 64, 67, 0.3), 0px 1px 3px 1px rgba(60, 64, 67, 0.15);\n",
              "      fill: #174EA6;\n",
              "    }\n",
              "\n",
              "    .colab-df-buttons div {\n",
              "      margin-bottom: 4px;\n",
              "    }\n",
              "\n",
              "    [theme=dark] .colab-df-convert {\n",
              "      background-color: #3B4455;\n",
              "      fill: #D2E3FC;\n",
              "    }\n",
              "\n",
              "    [theme=dark] .colab-df-convert:hover {\n",
              "      background-color: #434B5C;\n",
              "      box-shadow: 0px 1px 3px 1px rgba(0, 0, 0, 0.15);\n",
              "      filter: drop-shadow(0px 1px 2px rgba(0, 0, 0, 0.3));\n",
              "      fill: #FFFFFF;\n",
              "    }\n",
              "  </style>\n",
              "\n",
              "    <script>\n",
              "      const buttonEl =\n",
              "        document.querySelector('#df-090a156a-5953-4353-ba7a-21232ad1da17 button.colab-df-convert');\n",
              "      buttonEl.style.display =\n",
              "        google.colab.kernel.accessAllowed ? 'block' : 'none';\n",
              "\n",
              "      async function convertToInteractive(key) {\n",
              "        const element = document.querySelector('#df-090a156a-5953-4353-ba7a-21232ad1da17');\n",
              "        const dataTable =\n",
              "          await google.colab.kernel.invokeFunction('convertToInteractive',\n",
              "                                                    [key], {});\n",
              "        if (!dataTable) return;\n",
              "\n",
              "        const docLinkHtml = 'Like what you see? Visit the ' +\n",
              "          '<a target=\"_blank\" href=https://colab.research.google.com/notebooks/data_table.ipynb>data table notebook</a>'\n",
              "          + ' to learn more about interactive tables.';\n",
              "        element.innerHTML = '';\n",
              "        dataTable['output_type'] = 'display_data';\n",
              "        await google.colab.output.renderOutput(dataTable, element);\n",
              "        const docLink = document.createElement('div');\n",
              "        docLink.innerHTML = docLinkHtml;\n",
              "        element.appendChild(docLink);\n",
              "      }\n",
              "    </script>\n",
              "  </div>\n",
              "\n",
              "\n",
              "    <div id=\"df-7f84cd33-45db-472c-a4e1-0bcdd7843c50\">\n",
              "      <button class=\"colab-df-quickchart\" onclick=\"quickchart('df-7f84cd33-45db-472c-a4e1-0bcdd7843c50')\"\n",
              "                title=\"Suggest charts\"\n",
              "                style=\"display:none;\">\n",
              "\n",
              "<svg xmlns=\"http://www.w3.org/2000/svg\" height=\"24px\"viewBox=\"0 0 24 24\"\n",
              "     width=\"24px\">\n",
              "    <g>\n",
              "        <path d=\"M19 3H5c-1.1 0-2 .9-2 2v14c0 1.1.9 2 2 2h14c1.1 0 2-.9 2-2V5c0-1.1-.9-2-2-2zM9 17H7v-7h2v7zm4 0h-2V7h2v10zm4 0h-2v-4h2v4z\"/>\n",
              "    </g>\n",
              "</svg>\n",
              "      </button>\n",
              "\n",
              "<style>\n",
              "  .colab-df-quickchart {\n",
              "      --bg-color: #E8F0FE;\n",
              "      --fill-color: #1967D2;\n",
              "      --hover-bg-color: #E2EBFA;\n",
              "      --hover-fill-color: #174EA6;\n",
              "      --disabled-fill-color: #AAA;\n",
              "      --disabled-bg-color: #DDD;\n",
              "  }\n",
              "\n",
              "  [theme=dark] .colab-df-quickchart {\n",
              "      --bg-color: #3B4455;\n",
              "      --fill-color: #D2E3FC;\n",
              "      --hover-bg-color: #434B5C;\n",
              "      --hover-fill-color: #FFFFFF;\n",
              "      --disabled-bg-color: #3B4455;\n",
              "      --disabled-fill-color: #666;\n",
              "  }\n",
              "\n",
              "  .colab-df-quickchart {\n",
              "    background-color: var(--bg-color);\n",
              "    border: none;\n",
              "    border-radius: 50%;\n",
              "    cursor: pointer;\n",
              "    display: none;\n",
              "    fill: var(--fill-color);\n",
              "    height: 32px;\n",
              "    padding: 0;\n",
              "    width: 32px;\n",
              "  }\n",
              "\n",
              "  .colab-df-quickchart:hover {\n",
              "    background-color: var(--hover-bg-color);\n",
              "    box-shadow: 0 1px 2px rgba(60, 64, 67, 0.3), 0 1px 3px 1px rgba(60, 64, 67, 0.15);\n",
              "    fill: var(--button-hover-fill-color);\n",
              "  }\n",
              "\n",
              "  .colab-df-quickchart-complete:disabled,\n",
              "  .colab-df-quickchart-complete:disabled:hover {\n",
              "    background-color: var(--disabled-bg-color);\n",
              "    fill: var(--disabled-fill-color);\n",
              "    box-shadow: none;\n",
              "  }\n",
              "\n",
              "  .colab-df-spinner {\n",
              "    border: 2px solid var(--fill-color);\n",
              "    border-color: transparent;\n",
              "    border-bottom-color: var(--fill-color);\n",
              "    animation:\n",
              "      spin 1s steps(1) infinite;\n",
              "  }\n",
              "\n",
              "  @keyframes spin {\n",
              "    0% {\n",
              "      border-color: transparent;\n",
              "      border-bottom-color: var(--fill-color);\n",
              "      border-left-color: var(--fill-color);\n",
              "    }\n",
              "    20% {\n",
              "      border-color: transparent;\n",
              "      border-left-color: var(--fill-color);\n",
              "      border-top-color: var(--fill-color);\n",
              "    }\n",
              "    30% {\n",
              "      border-color: transparent;\n",
              "      border-left-color: var(--fill-color);\n",
              "      border-top-color: var(--fill-color);\n",
              "      border-right-color: var(--fill-color);\n",
              "    }\n",
              "    40% {\n",
              "      border-color: transparent;\n",
              "      border-right-color: var(--fill-color);\n",
              "      border-top-color: var(--fill-color);\n",
              "    }\n",
              "    60% {\n",
              "      border-color: transparent;\n",
              "      border-right-color: var(--fill-color);\n",
              "    }\n",
              "    80% {\n",
              "      border-color: transparent;\n",
              "      border-right-color: var(--fill-color);\n",
              "      border-bottom-color: var(--fill-color);\n",
              "    }\n",
              "    90% {\n",
              "      border-color: transparent;\n",
              "      border-bottom-color: var(--fill-color);\n",
              "    }\n",
              "  }\n",
              "</style>\n",
              "\n",
              "      <script>\n",
              "        async function quickchart(key) {\n",
              "          const quickchartButtonEl =\n",
              "            document.querySelector('#' + key + ' button');\n",
              "          quickchartButtonEl.disabled = true;  // To prevent multiple clicks.\n",
              "          quickchartButtonEl.classList.add('colab-df-spinner');\n",
              "          try {\n",
              "            const charts = await google.colab.kernel.invokeFunction(\n",
              "                'suggestCharts', [key], {});\n",
              "          } catch (error) {\n",
              "            console.error('Error during call to suggestCharts:', error);\n",
              "          }\n",
              "          quickchartButtonEl.classList.remove('colab-df-spinner');\n",
              "          quickchartButtonEl.classList.add('colab-df-quickchart-complete');\n",
              "        }\n",
              "        (() => {\n",
              "          let quickchartButtonEl =\n",
              "            document.querySelector('#df-7f84cd33-45db-472c-a4e1-0bcdd7843c50 button');\n",
              "          quickchartButtonEl.style.display =\n",
              "            google.colab.kernel.accessAllowed ? 'block' : 'none';\n",
              "        })();\n",
              "      </script>\n",
              "    </div>\n",
              "\n",
              "    </div>\n",
              "  </div>\n"
            ],
            "application/vnd.google.colaboratory.intrinsic+json": {
              "type": "dataframe",
              "variable_name": "df_AI_ERA_WORKFORCE",
              "summary": "{\n  \"name\": \"df_AI_ERA_WORKFORCE\",\n  \"rows\": 1000,\n  \"fields\": [\n    {\n      \"column\": \"UserID\",\n      \"properties\": {\n        \"dtype\": \"string\",\n        \"num_unique_values\": 1000,\n        \"samples\": [\n          \"USR-0522\",\n          \"USR-0738\",\n          \"USR-0741\"\n        ],\n        \"semantic_type\": \"\",\n        \"description\": \"\"\n      }\n    },\n    {\n      \"column\": \"Age\",\n      \"properties\": {\n        \"dtype\": \"number\",\n        \"std\": 11,\n        \"min\": 22,\n        \"max\": 60,\n        \"num_unique_values\": 39,\n        \"samples\": [\n          58,\n          24,\n          22\n        ],\n        \"semantic_type\": \"\",\n        \"description\": \"\"\n      }\n    },\n    {\n      \"column\": \"Gender\",\n      \"properties\": {\n        \"dtype\": \"category\",\n        \"num_unique_values\": 4,\n        \"samples\": [\n          \"Male\",\n          \"Non-Binary\",\n          \"Female\"\n        ],\n        \"semantic_type\": \"\",\n        \"description\": \"\"\n      }\n    },\n    {\n      \"column\": \"Country\",\n      \"properties\": {\n        \"dtype\": \"category\",\n        \"num_unique_values\": 8,\n        \"samples\": [\n          \"Canada\",\n          \"Australia\",\n          \"France\"\n        ],\n        \"semantic_type\": \"\",\n        \"description\": \"\"\n      }\n    },\n    {\n      \"column\": \"EducationLevel\",\n      \"properties\": {\n        \"dtype\": \"category\",\n        \"num_unique_values\": 5,\n        \"samples\": [\n          \"High School\",\n          \"Master's\",\n          \"Bachelor's\"\n        ],\n        \"semantic_type\": \"\",\n        \"description\": \"\"\n      }\n    },\n    {\n      \"column\": \"CurrentJobTitle\",\n      \"properties\": {\n        \"dtype\": \"category\",\n        \"num_unique_values\": 11,\n        \"samples\": [\n          \"Content Creator\",\n          \"Nurse\",\n          \"AI Specialist\"\n        ],\n        \"semantic_type\": \"\",\n        \"description\": \"\"\n      }\n    },\n    {\n      \"column\": \"YearsOfExperience\",\n      \"properties\": {\n        \"dtype\": \"number\",\n        \"std\": 11,\n        \"min\": 0,\n        \"max\": 42,\n        \"num_unique_values\": 43,\n        \"samples\": [\n          19,\n          23,\n          10\n        ],\n        \"semantic_type\": \"\",\n        \"description\": \"\"\n      }\n    },\n    {\n      \"column\": \"Industry\",\n      \"properties\": {\n        \"dtype\": \"category\",\n        \"num_unique_values\": 8,\n        \"samples\": [\n          \"Healthcare\",\n          \"Education\",\n          \"Media\"\n        ],\n        \"semantic_type\": \"\",\n        \"description\": \"\"\n      }\n    },\n    {\n      \"column\": \"HasAISkills\",\n      \"properties\": {\n        \"dtype\": \"boolean\",\n        \"num_unique_values\": 2,\n        \"samples\": [\n          true,\n          false\n        ],\n        \"semantic_type\": \"\",\n        \"description\": \"\"\n      }\n    },\n    {\n      \"column\": \"AISkillsList\",\n      \"properties\": {\n        \"dtype\": \"category\",\n        \"num_unique_values\": 102,\n        \"samples\": [\n          \"AI Ethics, Natural Language Processing\",\n          \"Computer Vision, Data Science, Deep Learning\"\n        ],\n        \"semantic_type\": \"\",\n        \"description\": \"\"\n      }\n    },\n    {\n      \"column\": \"WillingnessToUpskill\",\n      \"properties\": {\n        \"dtype\": \"number\",\n        \"std\": 0,\n        \"min\": 2,\n        \"max\": 5,\n        \"num_unique_values\": 4,\n        \"samples\": [\n          4,\n          3\n        ],\n        \"semantic_type\": \"\",\n        \"description\": \"\"\n      }\n    },\n    {\n      \"column\": \"UpskillingActionsTaken\",\n      \"properties\": {\n        \"dtype\": \"number\",\n        \"std\": 1,\n        \"min\": 0,\n        \"max\": 5,\n        \"num_unique_values\": 6,\n        \"samples\": [\n          4,\n          5\n        ],\n        \"semantic_type\": \"\",\n        \"description\": \"\"\n      }\n    },\n    {\n      \"column\": \"SkillGapScore\",\n      \"properties\": {\n        \"dtype\": \"number\",\n        \"std\": 0.16416445281353692,\n        \"min\": 0.15,\n        \"max\": 0.7,\n        \"num_unique_values\": 35,\n        \"samples\": [\n          0.17,\n          0.35\n        ],\n        \"semantic_type\": \"\",\n        \"description\": \"\"\n      }\n    },\n    {\n      \"column\": \"FutureJobRisk\",\n      \"properties\": {\n        \"dtype\": \"category\",\n        \"num_unique_values\": 3,\n        \"samples\": [\n          \"High\",\n          \"Medium\"\n        ],\n        \"semantic_type\": \"\",\n        \"description\": \"\"\n      }\n    },\n    {\n      \"column\": \"RecommendedLearningPath\",\n      \"properties\": {\n        \"dtype\": \"category\",\n        \"num_unique_values\": 5,\n        \"samples\": [\n          \"Prompt Engineering, NLP\",\n          \"Python, Data Analysis, AI Ethics\"\n        ],\n        \"semantic_type\": \"\",\n        \"description\": \"\"\n      }\n    },\n    {\n      \"column\": \"LastProfileUpdate\",\n      \"properties\": {\n        \"dtype\": \"object\",\n        \"num_unique_values\": 470,\n        \"samples\": [\n          \"2023-09-07\",\n          \"2023-07-09\"\n        ],\n        \"semantic_type\": \"\",\n        \"description\": \"\"\n      }\n    }\n  ]\n}"
            }
          },
          "metadata": {},
          "execution_count": 4
        }
      ],
      "source": [
        "# show first five observations\n",
        "df_AI_ERA_WORKFORCE.head()"
      ]
    },
    {
      "cell_type": "code",
      "execution_count": null,
      "id": "31b1cc34-a00b-4f6d-aa61-f655dcae3433",
      "metadata": {
        "colab": {
          "base_uri": "https://localhost:8080/",
          "height": 320
        },
        "id": "31b1cc34-a00b-4f6d-aa61-f655dcae3433",
        "outputId": "5ff86cd5-57be-4f9e-ba42-7345ff50f725"
      },
      "outputs": [
        {
          "output_type": "execute_result",
          "data": {
            "text/plain": [
              "       UserID  Age  Gender    Country EducationLevel        CurrentJobTitle  \\\n",
              "995  USR-0996   50  Female     France     Bachelor's     Operations Manager   \n",
              "996  USR-0997   47  Female  Australia     Bachelor's      Software Engineer   \n",
              "997  USR-0998   26  Female    Germany            PhD  Marketing Coordinator   \n",
              "998  USR-0999   31  Female        USA     Bachelor's          AI Specialist   \n",
              "999  USR-1000   39  Female     Canada     Bachelor's           Data Analyst   \n",
              "\n",
              "     YearsOfExperience    Industry  HasAISkills  \\\n",
              "995                 32       Media        False   \n",
              "996                 27  Consulting        False   \n",
              "997                  2  Healthcare         True   \n",
              "998                 12     Finance        False   \n",
              "999                 19  Consulting        False   \n",
              "\n",
              "                               AISkillsList  WillingnessToUpskill  \\\n",
              "995                                     NaN                     3   \n",
              "996                                     NaN                     3   \n",
              "997  Deep Learning, Data Science, AI Ethics                     5   \n",
              "998                                     NaN                     5   \n",
              "999                                     NaN                     4   \n",
              "\n",
              "     UpskillingActionsTaken  SkillGapScore FutureJobRisk  \\\n",
              "995                       2           0.70          High   \n",
              "996                       0           0.70           Low   \n",
              "997                       0           0.26           Low   \n",
              "998                       1           0.70           Low   \n",
              "999                       2           0.70        Medium   \n",
              "\n",
              "             RecommendedLearningPath LastProfileUpdate  \n",
              "995  Machine Learning, Deep Learning        2023-08-21  \n",
              "996          Prompt Engineering, NLP        2023-07-12  \n",
              "997                              NaN        2023-10-06  \n",
              "998       Data Visualization, Python        2023-12-11  \n",
              "999  Machine Learning, Deep Learning        2023-03-03  "
            ],
            "text/html": [
              "\n",
              "  <div id=\"df-c5db48a3-2abf-4d32-8a83-900af634c185\" class=\"colab-df-container\">\n",
              "    <div>\n",
              "<style scoped>\n",
              "    .dataframe tbody tr th:only-of-type {\n",
              "        vertical-align: middle;\n",
              "    }\n",
              "\n",
              "    .dataframe tbody tr th {\n",
              "        vertical-align: top;\n",
              "    }\n",
              "\n",
              "    .dataframe thead th {\n",
              "        text-align: right;\n",
              "    }\n",
              "</style>\n",
              "<table border=\"1\" class=\"dataframe\">\n",
              "  <thead>\n",
              "    <tr style=\"text-align: right;\">\n",
              "      <th></th>\n",
              "      <th>UserID</th>\n",
              "      <th>Age</th>\n",
              "      <th>Gender</th>\n",
              "      <th>Country</th>\n",
              "      <th>EducationLevel</th>\n",
              "      <th>CurrentJobTitle</th>\n",
              "      <th>YearsOfExperience</th>\n",
              "      <th>Industry</th>\n",
              "      <th>HasAISkills</th>\n",
              "      <th>AISkillsList</th>\n",
              "      <th>WillingnessToUpskill</th>\n",
              "      <th>UpskillingActionsTaken</th>\n",
              "      <th>SkillGapScore</th>\n",
              "      <th>FutureJobRisk</th>\n",
              "      <th>RecommendedLearningPath</th>\n",
              "      <th>LastProfileUpdate</th>\n",
              "    </tr>\n",
              "  </thead>\n",
              "  <tbody>\n",
              "    <tr>\n",
              "      <th>995</th>\n",
              "      <td>USR-0996</td>\n",
              "      <td>50</td>\n",
              "      <td>Female</td>\n",
              "      <td>France</td>\n",
              "      <td>Bachelor's</td>\n",
              "      <td>Operations Manager</td>\n",
              "      <td>32</td>\n",
              "      <td>Media</td>\n",
              "      <td>False</td>\n",
              "      <td>NaN</td>\n",
              "      <td>3</td>\n",
              "      <td>2</td>\n",
              "      <td>0.70</td>\n",
              "      <td>High</td>\n",
              "      <td>Machine Learning, Deep Learning</td>\n",
              "      <td>2023-08-21</td>\n",
              "    </tr>\n",
              "    <tr>\n",
              "      <th>996</th>\n",
              "      <td>USR-0997</td>\n",
              "      <td>47</td>\n",
              "      <td>Female</td>\n",
              "      <td>Australia</td>\n",
              "      <td>Bachelor's</td>\n",
              "      <td>Software Engineer</td>\n",
              "      <td>27</td>\n",
              "      <td>Consulting</td>\n",
              "      <td>False</td>\n",
              "      <td>NaN</td>\n",
              "      <td>3</td>\n",
              "      <td>0</td>\n",
              "      <td>0.70</td>\n",
              "      <td>Low</td>\n",
              "      <td>Prompt Engineering, NLP</td>\n",
              "      <td>2023-07-12</td>\n",
              "    </tr>\n",
              "    <tr>\n",
              "      <th>997</th>\n",
              "      <td>USR-0998</td>\n",
              "      <td>26</td>\n",
              "      <td>Female</td>\n",
              "      <td>Germany</td>\n",
              "      <td>PhD</td>\n",
              "      <td>Marketing Coordinator</td>\n",
              "      <td>2</td>\n",
              "      <td>Healthcare</td>\n",
              "      <td>True</td>\n",
              "      <td>Deep Learning, Data Science, AI Ethics</td>\n",
              "      <td>5</td>\n",
              "      <td>0</td>\n",
              "      <td>0.26</td>\n",
              "      <td>Low</td>\n",
              "      <td>NaN</td>\n",
              "      <td>2023-10-06</td>\n",
              "    </tr>\n",
              "    <tr>\n",
              "      <th>998</th>\n",
              "      <td>USR-0999</td>\n",
              "      <td>31</td>\n",
              "      <td>Female</td>\n",
              "      <td>USA</td>\n",
              "      <td>Bachelor's</td>\n",
              "      <td>AI Specialist</td>\n",
              "      <td>12</td>\n",
              "      <td>Finance</td>\n",
              "      <td>False</td>\n",
              "      <td>NaN</td>\n",
              "      <td>5</td>\n",
              "      <td>1</td>\n",
              "      <td>0.70</td>\n",
              "      <td>Low</td>\n",
              "      <td>Data Visualization, Python</td>\n",
              "      <td>2023-12-11</td>\n",
              "    </tr>\n",
              "    <tr>\n",
              "      <th>999</th>\n",
              "      <td>USR-1000</td>\n",
              "      <td>39</td>\n",
              "      <td>Female</td>\n",
              "      <td>Canada</td>\n",
              "      <td>Bachelor's</td>\n",
              "      <td>Data Analyst</td>\n",
              "      <td>19</td>\n",
              "      <td>Consulting</td>\n",
              "      <td>False</td>\n",
              "      <td>NaN</td>\n",
              "      <td>4</td>\n",
              "      <td>2</td>\n",
              "      <td>0.70</td>\n",
              "      <td>Medium</td>\n",
              "      <td>Machine Learning, Deep Learning</td>\n",
              "      <td>2023-03-03</td>\n",
              "    </tr>\n",
              "  </tbody>\n",
              "</table>\n",
              "</div>\n",
              "    <div class=\"colab-df-buttons\">\n",
              "\n",
              "  <div class=\"colab-df-container\">\n",
              "    <button class=\"colab-df-convert\" onclick=\"convertToInteractive('df-c5db48a3-2abf-4d32-8a83-900af634c185')\"\n",
              "            title=\"Convert this dataframe to an interactive table.\"\n",
              "            style=\"display:none;\">\n",
              "\n",
              "  <svg xmlns=\"http://www.w3.org/2000/svg\" height=\"24px\" viewBox=\"0 -960 960 960\">\n",
              "    <path d=\"M120-120v-720h720v720H120Zm60-500h600v-160H180v160Zm220 220h160v-160H400v160Zm0 220h160v-160H400v160ZM180-400h160v-160H180v160Zm440 0h160v-160H620v160ZM180-180h160v-160H180v160Zm440 0h160v-160H620v160Z\"/>\n",
              "  </svg>\n",
              "    </button>\n",
              "\n",
              "  <style>\n",
              "    .colab-df-container {\n",
              "      display:flex;\n",
              "      gap: 12px;\n",
              "    }\n",
              "\n",
              "    .colab-df-convert {\n",
              "      background-color: #E8F0FE;\n",
              "      border: none;\n",
              "      border-radius: 50%;\n",
              "      cursor: pointer;\n",
              "      display: none;\n",
              "      fill: #1967D2;\n",
              "      height: 32px;\n",
              "      padding: 0 0 0 0;\n",
              "      width: 32px;\n",
              "    }\n",
              "\n",
              "    .colab-df-convert:hover {\n",
              "      background-color: #E2EBFA;\n",
              "      box-shadow: 0px 1px 2px rgba(60, 64, 67, 0.3), 0px 1px 3px 1px rgba(60, 64, 67, 0.15);\n",
              "      fill: #174EA6;\n",
              "    }\n",
              "\n",
              "    .colab-df-buttons div {\n",
              "      margin-bottom: 4px;\n",
              "    }\n",
              "\n",
              "    [theme=dark] .colab-df-convert {\n",
              "      background-color: #3B4455;\n",
              "      fill: #D2E3FC;\n",
              "    }\n",
              "\n",
              "    [theme=dark] .colab-df-convert:hover {\n",
              "      background-color: #434B5C;\n",
              "      box-shadow: 0px 1px 3px 1px rgba(0, 0, 0, 0.15);\n",
              "      filter: drop-shadow(0px 1px 2px rgba(0, 0, 0, 0.3));\n",
              "      fill: #FFFFFF;\n",
              "    }\n",
              "  </style>\n",
              "\n",
              "    <script>\n",
              "      const buttonEl =\n",
              "        document.querySelector('#df-c5db48a3-2abf-4d32-8a83-900af634c185 button.colab-df-convert');\n",
              "      buttonEl.style.display =\n",
              "        google.colab.kernel.accessAllowed ? 'block' : 'none';\n",
              "\n",
              "      async function convertToInteractive(key) {\n",
              "        const element = document.querySelector('#df-c5db48a3-2abf-4d32-8a83-900af634c185');\n",
              "        const dataTable =\n",
              "          await google.colab.kernel.invokeFunction('convertToInteractive',\n",
              "                                                    [key], {});\n",
              "        if (!dataTable) return;\n",
              "\n",
              "        const docLinkHtml = 'Like what you see? Visit the ' +\n",
              "          '<a target=\"_blank\" href=https://colab.research.google.com/notebooks/data_table.ipynb>data table notebook</a>'\n",
              "          + ' to learn more about interactive tables.';\n",
              "        element.innerHTML = '';\n",
              "        dataTable['output_type'] = 'display_data';\n",
              "        await google.colab.output.renderOutput(dataTable, element);\n",
              "        const docLink = document.createElement('div');\n",
              "        docLink.innerHTML = docLinkHtml;\n",
              "        element.appendChild(docLink);\n",
              "      }\n",
              "    </script>\n",
              "  </div>\n",
              "\n",
              "\n",
              "    <div id=\"df-e323689c-90b5-4e87-a8a9-01409f95ec9e\">\n",
              "      <button class=\"colab-df-quickchart\" onclick=\"quickchart('df-e323689c-90b5-4e87-a8a9-01409f95ec9e')\"\n",
              "                title=\"Suggest charts\"\n",
              "                style=\"display:none;\">\n",
              "\n",
              "<svg xmlns=\"http://www.w3.org/2000/svg\" height=\"24px\"viewBox=\"0 0 24 24\"\n",
              "     width=\"24px\">\n",
              "    <g>\n",
              "        <path d=\"M19 3H5c-1.1 0-2 .9-2 2v14c0 1.1.9 2 2 2h14c1.1 0 2-.9 2-2V5c0-1.1-.9-2-2-2zM9 17H7v-7h2v7zm4 0h-2V7h2v10zm4 0h-2v-4h2v4z\"/>\n",
              "    </g>\n",
              "</svg>\n",
              "      </button>\n",
              "\n",
              "<style>\n",
              "  .colab-df-quickchart {\n",
              "      --bg-color: #E8F0FE;\n",
              "      --fill-color: #1967D2;\n",
              "      --hover-bg-color: #E2EBFA;\n",
              "      --hover-fill-color: #174EA6;\n",
              "      --disabled-fill-color: #AAA;\n",
              "      --disabled-bg-color: #DDD;\n",
              "  }\n",
              "\n",
              "  [theme=dark] .colab-df-quickchart {\n",
              "      --bg-color: #3B4455;\n",
              "      --fill-color: #D2E3FC;\n",
              "      --hover-bg-color: #434B5C;\n",
              "      --hover-fill-color: #FFFFFF;\n",
              "      --disabled-bg-color: #3B4455;\n",
              "      --disabled-fill-color: #666;\n",
              "  }\n",
              "\n",
              "  .colab-df-quickchart {\n",
              "    background-color: var(--bg-color);\n",
              "    border: none;\n",
              "    border-radius: 50%;\n",
              "    cursor: pointer;\n",
              "    display: none;\n",
              "    fill: var(--fill-color);\n",
              "    height: 32px;\n",
              "    padding: 0;\n",
              "    width: 32px;\n",
              "  }\n",
              "\n",
              "  .colab-df-quickchart:hover {\n",
              "    background-color: var(--hover-bg-color);\n",
              "    box-shadow: 0 1px 2px rgba(60, 64, 67, 0.3), 0 1px 3px 1px rgba(60, 64, 67, 0.15);\n",
              "    fill: var(--button-hover-fill-color);\n",
              "  }\n",
              "\n",
              "  .colab-df-quickchart-complete:disabled,\n",
              "  .colab-df-quickchart-complete:disabled:hover {\n",
              "    background-color: var(--disabled-bg-color);\n",
              "    fill: var(--disabled-fill-color);\n",
              "    box-shadow: none;\n",
              "  }\n",
              "\n",
              "  .colab-df-spinner {\n",
              "    border: 2px solid var(--fill-color);\n",
              "    border-color: transparent;\n",
              "    border-bottom-color: var(--fill-color);\n",
              "    animation:\n",
              "      spin 1s steps(1) infinite;\n",
              "  }\n",
              "\n",
              "  @keyframes spin {\n",
              "    0% {\n",
              "      border-color: transparent;\n",
              "      border-bottom-color: var(--fill-color);\n",
              "      border-left-color: var(--fill-color);\n",
              "    }\n",
              "    20% {\n",
              "      border-color: transparent;\n",
              "      border-left-color: var(--fill-color);\n",
              "      border-top-color: var(--fill-color);\n",
              "    }\n",
              "    30% {\n",
              "      border-color: transparent;\n",
              "      border-left-color: var(--fill-color);\n",
              "      border-top-color: var(--fill-color);\n",
              "      border-right-color: var(--fill-color);\n",
              "    }\n",
              "    40% {\n",
              "      border-color: transparent;\n",
              "      border-right-color: var(--fill-color);\n",
              "      border-top-color: var(--fill-color);\n",
              "    }\n",
              "    60% {\n",
              "      border-color: transparent;\n",
              "      border-right-color: var(--fill-color);\n",
              "    }\n",
              "    80% {\n",
              "      border-color: transparent;\n",
              "      border-right-color: var(--fill-color);\n",
              "      border-bottom-color: var(--fill-color);\n",
              "    }\n",
              "    90% {\n",
              "      border-color: transparent;\n",
              "      border-bottom-color: var(--fill-color);\n",
              "    }\n",
              "  }\n",
              "</style>\n",
              "\n",
              "      <script>\n",
              "        async function quickchart(key) {\n",
              "          const quickchartButtonEl =\n",
              "            document.querySelector('#' + key + ' button');\n",
              "          quickchartButtonEl.disabled = true;  // To prevent multiple clicks.\n",
              "          quickchartButtonEl.classList.add('colab-df-spinner');\n",
              "          try {\n",
              "            const charts = await google.colab.kernel.invokeFunction(\n",
              "                'suggestCharts', [key], {});\n",
              "          } catch (error) {\n",
              "            console.error('Error during call to suggestCharts:', error);\n",
              "          }\n",
              "          quickchartButtonEl.classList.remove('colab-df-spinner');\n",
              "          quickchartButtonEl.classList.add('colab-df-quickchart-complete');\n",
              "        }\n",
              "        (() => {\n",
              "          let quickchartButtonEl =\n",
              "            document.querySelector('#df-e323689c-90b5-4e87-a8a9-01409f95ec9e button');\n",
              "          quickchartButtonEl.style.display =\n",
              "            google.colab.kernel.accessAllowed ? 'block' : 'none';\n",
              "        })();\n",
              "      </script>\n",
              "    </div>\n",
              "\n",
              "    </div>\n",
              "  </div>\n"
            ],
            "application/vnd.google.colaboratory.intrinsic+json": {
              "type": "dataframe",
              "repr_error": "0"
            }
          },
          "metadata": {},
          "execution_count": 5
        }
      ],
      "source": [
        "# show the last five observations\n",
        "df_AI_ERA_WORKFORCE.tail()"
      ]
    },
    {
      "cell_type": "markdown",
      "id": "b81cb183-4974-4038-8c46-643ba40a7735",
      "metadata": {
        "id": "b81cb183-4974-4038-8c46-643ba40a7735"
      },
      "source": [
        "## DATA OVERVIEW"
      ]
    },
    {
      "cell_type": "code",
      "execution_count": null,
      "id": "b08534a9-96b2-4bab-b9a5-a8bbb9450f87",
      "metadata": {
        "id": "b08534a9-96b2-4bab-b9a5-a8bbb9450f87"
      },
      "outputs": [],
      "source": [
        "# THE INFORMATION WE MUST NEED TO HAVE BEFORE STARTING DATA ANALYTICS FOR MACHINE LEARNING\n",
        "# INFORMATION ABOUT THE DATA SOURCE\n",
        "# INFORMATION ABOUT THE COLUM\n",
        "# INFORMATION ABOUT THE SHAPE OF THE DATA\n",
        "# DATA TYPES OF THE COLUMS\n",
        "# SIZE OF THE DATA SET\n",
        "# INFORMATIONS ABOUT THE BASICS STATICS OF THE DATA"
      ]
    },
    {
      "cell_type": "code",
      "execution_count": null,
      "id": "bb17ab64-71c3-48b9-8391-fea713e3d09e",
      "metadata": {
        "id": "bb17ab64-71c3-48b9-8391-fea713e3d09e"
      },
      "outputs": [],
      "source": [
        "# DATA SOURCE THIS DATA HAVE GENERATED BY LARGE LANGUAGE MODULES (LLM), THIS APROGE WE FOLLOW TO REPLICATE REAL TIME PROBLEM"
      ]
    },
    {
      "cell_type": "code",
      "execution_count": null,
      "id": "b9c7fdaf-c1d9-475a-8d68-56775ae3ea68",
      "metadata": {
        "colab": {
          "base_uri": "https://localhost:8080/"
        },
        "id": "b9c7fdaf-c1d9-475a-8d68-56775ae3ea68",
        "outputId": "b21b2052-889a-4ae4-c847-b520cac16ccd"
      },
      "outputs": [
        {
          "output_type": "execute_result",
          "data": {
            "text/plain": [
              "Index(['UserID', 'Age', 'Gender', 'Country', 'EducationLevel',\n",
              "       'CurrentJobTitle', 'YearsOfExperience', 'Industry', 'HasAISkills',\n",
              "       'AISkillsList', 'WillingnessToUpskill', 'UpskillingActionsTaken',\n",
              "       'SkillGapScore', 'FutureJobRisk', 'RecommendedLearningPath',\n",
              "       'LastProfileUpdate'],\n",
              "      dtype='object')"
            ]
          },
          "metadata": {},
          "execution_count": 8
        }
      ],
      "source": [
        "# INFORMATION ABOUT COLUMS\n",
        "df_AI_ERA_WORKFORCE.columns"
      ]
    },
    {
      "cell_type": "markdown",
      "id": "eb50af15-cebb-4164-bbaf-3a25e13785ed",
      "metadata": {
        "id": "eb50af15-cebb-4164-bbaf-3a25e13785ed"
      },
      "source": [
        "| Column Name                 | Likely Purpose                            | Notes / Example Values                               |\n",
        "| --------------------------- | ----------------------------------------- | ---------------------------------------------------- |\n",
        "| **UserID**                  | Unique identifier for each user.          | `\"USR_00123\"`                                        |\n",
        "| **Age**                     | Age of the individual.                    | `28`, `45`                                           |\n",
        "| **Gender**                  | Gender category.                          | `\"Male\"`, `\"Female\"`, `\"Other\"`                      |\n",
        "| **Country**                 | Country of residence.                     | `\"India\"`, `\"USA\"`                                   |\n",
        "| **EducationLevel**          | Highest qualification.                    | `\"Bachelor's\"`, `\"Master's\"`, `\"PhD\"`                |\n",
        "| **CurrentJobTitle**         | Present role/designation.                 | `\"Data Analyst\"`, `\"Software Engineer\"`              |\n",
        "| **YearsOfExperience**       | Total professional experience.            | `5`, `12`                                            |\n",
        "| **Industry**                | Current working sector.                   | `\"IT\"`, `\"Finance\"`, `\"Healthcare\"`                  |\n",
        "| **HasAISkills**             | Boolean indicating if user has AI skills. | `True` / `False`                                     |\n",
        "| **AISkillsList**            | List of specific AI-related skills.       | `\"Python, Machine Learning, NLP\"`                    |\n",
        "| **WillingnessToUpskill**    | Self-reported readiness to learn.         | `\"High\"`, `\"Medium\"`, `\"Low\"`                        |\n",
        "| **UpskillingActionsTaken**  | Actions already taken to upskill.         | `\"Online courses, Workshops\"`                        |\n",
        "| **SkillGapScore**           | Numeric score showing skills gap.         | `0.3` (low gap) to `0.9` (high gap)                  |\n",
        "| **FutureJobRisk**           | Risk of job automation/redundancy.        | `\"Low\"`, `\"Medium\"`, `\"High\"`                        |\n",
        "| **RecommendedLearningPath** | Suggested training route.                 | `\"Deep Learning Certification → MLOps → Deployment\"` |\n",
        "| **LastProfileUpdate**       | Last date profile was updated.            | `\"2025-08-12\"`                                       |\n"
      ]
    },
    {
      "cell_type": "code",
      "execution_count": null,
      "id": "afb4f9d4-4c9e-4099-af98-225bf61aeb89",
      "metadata": {
        "colab": {
          "base_uri": "https://localhost:8080/"
        },
        "id": "afb4f9d4-4c9e-4099-af98-225bf61aeb89",
        "outputId": "84317c8b-6b47-4b12-8930-9ab0a8cb587c"
      },
      "outputs": [
        {
          "output_type": "execute_result",
          "data": {
            "text/plain": [
              "(1000, 16)"
            ]
          },
          "metadata": {},
          "execution_count": 9
        }
      ],
      "source": [
        "# information about the shape of the data\n",
        "df_AI_ERA_WORKFORCE.shape"
      ]
    },
    {
      "cell_type": "markdown",
      "id": "53bdd47d-de6c-40d9-888e-6ff50b03f784",
      "metadata": {
        "id": "53bdd47d-de6c-40d9-888e-6ff50b03f784"
      },
      "source": [
        "**interpretation**\n",
        " - we have 1000 observations () rows and 16 atributes  (columns)"
      ]
    },
    {
      "cell_type": "code",
      "execution_count": null,
      "id": "28d39656-b5b0-4deb-81cc-4299cf650e54",
      "metadata": {
        "colab": {
          "base_uri": "https://localhost:8080/"
        },
        "id": "28d39656-b5b0-4deb-81cc-4299cf650e54",
        "outputId": "fad775a8-069a-4b39-dbc6-49a4e6e1befd"
      },
      "outputs": [
        {
          "output_type": "stream",
          "name": "stdout",
          "text": [
            "<class 'pandas.core.frame.DataFrame'>\n",
            "RangeIndex: 1000 entries, 0 to 999\n",
            "Data columns (total 16 columns):\n",
            " #   Column                   Non-Null Count  Dtype  \n",
            "---  ------                   --------------  -----  \n",
            " 0   UserID                   1000 non-null   object \n",
            " 1   Age                      1000 non-null   int64  \n",
            " 2   Gender                   1000 non-null   object \n",
            " 3   Country                  1000 non-null   object \n",
            " 4   EducationLevel           1000 non-null   object \n",
            " 5   CurrentJobTitle          1000 non-null   object \n",
            " 6   YearsOfExperience        1000 non-null   int64  \n",
            " 7   Industry                 1000 non-null   object \n",
            " 8   HasAISkills              1000 non-null   bool   \n",
            " 9   AISkillsList             210 non-null    object \n",
            " 10  WillingnessToUpskill     1000 non-null   int64  \n",
            " 11  UpskillingActionsTaken   1000 non-null   int64  \n",
            " 12  SkillGapScore            1000 non-null   float64\n",
            " 13  FutureJobRisk            1000 non-null   object \n",
            " 14  RecommendedLearningPath  790 non-null    object \n",
            " 15  LastProfileUpdate        1000 non-null   object \n",
            "dtypes: bool(1), float64(1), int64(4), object(10)\n",
            "memory usage: 118.3+ KB\n"
          ]
        }
      ],
      "source": [
        "# check the data type of the columns\n",
        "df_AI_ERA_WORKFORCE.info()"
      ]
    },
    {
      "cell_type": "markdown",
      "id": "e4b5e914-dd4f-40d6-8bca-ee03165c9274",
      "metadata": {
        "id": "e4b5e914-dd4f-40d6-8bca-ee03165c9274"
      },
      "source": [
        "**interpretation**\n",
        " - we have 11 categerical columns and 5 numerical columns .\n",
        " - memory usese for the data is about 118.3+kb\n",
        " - after observation of non null count we conclud that we have missing record in the data"
      ]
    },
    {
      "cell_type": "code",
      "execution_count": null,
      "id": "6e2e5f47-5628-4ac8-bf44-f3eaee9911cc",
      "metadata": {
        "colab": {
          "base_uri": "https://localhost:8080/",
          "height": 221
        },
        "id": "6e2e5f47-5628-4ac8-bf44-f3eaee9911cc",
        "outputId": "4c965286-c237-452a-a863-15d4dbf6e87e"
      },
      "outputs": [
        {
          "output_type": "execute_result",
          "data": {
            "text/plain": [
              "                         count      mean        std    min   25%   50%   75%  \\\n",
              "Age                     1000.0  40.64400  11.046959  22.00  31.0  40.0  50.0   \n",
              "YearsOfExperience       1000.0  19.54500  11.259874   0.00  10.0  19.0  29.0   \n",
              "WillingnessToUpskill    1000.0   3.75300   0.936412   2.00   3.0   4.0   4.0   \n",
              "UpskillingActionsTaken  1000.0   1.95600   1.621942   0.00   1.0   2.0   3.0   \n",
              "SkillGapScore           1000.0   0.61768   0.164164   0.15   0.7   0.7   0.7   \n",
              "\n",
              "                         max  \n",
              "Age                     60.0  \n",
              "YearsOfExperience       42.0  \n",
              "WillingnessToUpskill     5.0  \n",
              "UpskillingActionsTaken   5.0  \n",
              "SkillGapScore            0.7  "
            ],
            "text/html": [
              "\n",
              "  <div id=\"df-d227bbb8-a0b7-4540-8a9c-8933e34b0b09\" class=\"colab-df-container\">\n",
              "    <div>\n",
              "<style scoped>\n",
              "    .dataframe tbody tr th:only-of-type {\n",
              "        vertical-align: middle;\n",
              "    }\n",
              "\n",
              "    .dataframe tbody tr th {\n",
              "        vertical-align: top;\n",
              "    }\n",
              "\n",
              "    .dataframe thead th {\n",
              "        text-align: right;\n",
              "    }\n",
              "</style>\n",
              "<table border=\"1\" class=\"dataframe\">\n",
              "  <thead>\n",
              "    <tr style=\"text-align: right;\">\n",
              "      <th></th>\n",
              "      <th>count</th>\n",
              "      <th>mean</th>\n",
              "      <th>std</th>\n",
              "      <th>min</th>\n",
              "      <th>25%</th>\n",
              "      <th>50%</th>\n",
              "      <th>75%</th>\n",
              "      <th>max</th>\n",
              "    </tr>\n",
              "  </thead>\n",
              "  <tbody>\n",
              "    <tr>\n",
              "      <th>Age</th>\n",
              "      <td>1000.0</td>\n",
              "      <td>40.64400</td>\n",
              "      <td>11.046959</td>\n",
              "      <td>22.00</td>\n",
              "      <td>31.0</td>\n",
              "      <td>40.0</td>\n",
              "      <td>50.0</td>\n",
              "      <td>60.0</td>\n",
              "    </tr>\n",
              "    <tr>\n",
              "      <th>YearsOfExperience</th>\n",
              "      <td>1000.0</td>\n",
              "      <td>19.54500</td>\n",
              "      <td>11.259874</td>\n",
              "      <td>0.00</td>\n",
              "      <td>10.0</td>\n",
              "      <td>19.0</td>\n",
              "      <td>29.0</td>\n",
              "      <td>42.0</td>\n",
              "    </tr>\n",
              "    <tr>\n",
              "      <th>WillingnessToUpskill</th>\n",
              "      <td>1000.0</td>\n",
              "      <td>3.75300</td>\n",
              "      <td>0.936412</td>\n",
              "      <td>2.00</td>\n",
              "      <td>3.0</td>\n",
              "      <td>4.0</td>\n",
              "      <td>4.0</td>\n",
              "      <td>5.0</td>\n",
              "    </tr>\n",
              "    <tr>\n",
              "      <th>UpskillingActionsTaken</th>\n",
              "      <td>1000.0</td>\n",
              "      <td>1.95600</td>\n",
              "      <td>1.621942</td>\n",
              "      <td>0.00</td>\n",
              "      <td>1.0</td>\n",
              "      <td>2.0</td>\n",
              "      <td>3.0</td>\n",
              "      <td>5.0</td>\n",
              "    </tr>\n",
              "    <tr>\n",
              "      <th>SkillGapScore</th>\n",
              "      <td>1000.0</td>\n",
              "      <td>0.61768</td>\n",
              "      <td>0.164164</td>\n",
              "      <td>0.15</td>\n",
              "      <td>0.7</td>\n",
              "      <td>0.7</td>\n",
              "      <td>0.7</td>\n",
              "      <td>0.7</td>\n",
              "    </tr>\n",
              "  </tbody>\n",
              "</table>\n",
              "</div>\n",
              "    <div class=\"colab-df-buttons\">\n",
              "\n",
              "  <div class=\"colab-df-container\">\n",
              "    <button class=\"colab-df-convert\" onclick=\"convertToInteractive('df-d227bbb8-a0b7-4540-8a9c-8933e34b0b09')\"\n",
              "            title=\"Convert this dataframe to an interactive table.\"\n",
              "            style=\"display:none;\">\n",
              "\n",
              "  <svg xmlns=\"http://www.w3.org/2000/svg\" height=\"24px\" viewBox=\"0 -960 960 960\">\n",
              "    <path d=\"M120-120v-720h720v720H120Zm60-500h600v-160H180v160Zm220 220h160v-160H400v160Zm0 220h160v-160H400v160ZM180-400h160v-160H180v160Zm440 0h160v-160H620v160ZM180-180h160v-160H180v160Zm440 0h160v-160H620v160Z\"/>\n",
              "  </svg>\n",
              "    </button>\n",
              "\n",
              "  <style>\n",
              "    .colab-df-container {\n",
              "      display:flex;\n",
              "      gap: 12px;\n",
              "    }\n",
              "\n",
              "    .colab-df-convert {\n",
              "      background-color: #E8F0FE;\n",
              "      border: none;\n",
              "      border-radius: 50%;\n",
              "      cursor: pointer;\n",
              "      display: none;\n",
              "      fill: #1967D2;\n",
              "      height: 32px;\n",
              "      padding: 0 0 0 0;\n",
              "      width: 32px;\n",
              "    }\n",
              "\n",
              "    .colab-df-convert:hover {\n",
              "      background-color: #E2EBFA;\n",
              "      box-shadow: 0px 1px 2px rgba(60, 64, 67, 0.3), 0px 1px 3px 1px rgba(60, 64, 67, 0.15);\n",
              "      fill: #174EA6;\n",
              "    }\n",
              "\n",
              "    .colab-df-buttons div {\n",
              "      margin-bottom: 4px;\n",
              "    }\n",
              "\n",
              "    [theme=dark] .colab-df-convert {\n",
              "      background-color: #3B4455;\n",
              "      fill: #D2E3FC;\n",
              "    }\n",
              "\n",
              "    [theme=dark] .colab-df-convert:hover {\n",
              "      background-color: #434B5C;\n",
              "      box-shadow: 0px 1px 3px 1px rgba(0, 0, 0, 0.15);\n",
              "      filter: drop-shadow(0px 1px 2px rgba(0, 0, 0, 0.3));\n",
              "      fill: #FFFFFF;\n",
              "    }\n",
              "  </style>\n",
              "\n",
              "    <script>\n",
              "      const buttonEl =\n",
              "        document.querySelector('#df-d227bbb8-a0b7-4540-8a9c-8933e34b0b09 button.colab-df-convert');\n",
              "      buttonEl.style.display =\n",
              "        google.colab.kernel.accessAllowed ? 'block' : 'none';\n",
              "\n",
              "      async function convertToInteractive(key) {\n",
              "        const element = document.querySelector('#df-d227bbb8-a0b7-4540-8a9c-8933e34b0b09');\n",
              "        const dataTable =\n",
              "          await google.colab.kernel.invokeFunction('convertToInteractive',\n",
              "                                                    [key], {});\n",
              "        if (!dataTable) return;\n",
              "\n",
              "        const docLinkHtml = 'Like what you see? Visit the ' +\n",
              "          '<a target=\"_blank\" href=https://colab.research.google.com/notebooks/data_table.ipynb>data table notebook</a>'\n",
              "          + ' to learn more about interactive tables.';\n",
              "        element.innerHTML = '';\n",
              "        dataTable['output_type'] = 'display_data';\n",
              "        await google.colab.output.renderOutput(dataTable, element);\n",
              "        const docLink = document.createElement('div');\n",
              "        docLink.innerHTML = docLinkHtml;\n",
              "        element.appendChild(docLink);\n",
              "      }\n",
              "    </script>\n",
              "  </div>\n",
              "\n",
              "\n",
              "    <div id=\"df-7e01eeb0-739e-4ca5-be39-2aee47593c06\">\n",
              "      <button class=\"colab-df-quickchart\" onclick=\"quickchart('df-7e01eeb0-739e-4ca5-be39-2aee47593c06')\"\n",
              "                title=\"Suggest charts\"\n",
              "                style=\"display:none;\">\n",
              "\n",
              "<svg xmlns=\"http://www.w3.org/2000/svg\" height=\"24px\"viewBox=\"0 0 24 24\"\n",
              "     width=\"24px\">\n",
              "    <g>\n",
              "        <path d=\"M19 3H5c-1.1 0-2 .9-2 2v14c0 1.1.9 2 2 2h14c1.1 0 2-.9 2-2V5c0-1.1-.9-2-2-2zM9 17H7v-7h2v7zm4 0h-2V7h2v10zm4 0h-2v-4h2v4z\"/>\n",
              "    </g>\n",
              "</svg>\n",
              "      </button>\n",
              "\n",
              "<style>\n",
              "  .colab-df-quickchart {\n",
              "      --bg-color: #E8F0FE;\n",
              "      --fill-color: #1967D2;\n",
              "      --hover-bg-color: #E2EBFA;\n",
              "      --hover-fill-color: #174EA6;\n",
              "      --disabled-fill-color: #AAA;\n",
              "      --disabled-bg-color: #DDD;\n",
              "  }\n",
              "\n",
              "  [theme=dark] .colab-df-quickchart {\n",
              "      --bg-color: #3B4455;\n",
              "      --fill-color: #D2E3FC;\n",
              "      --hover-bg-color: #434B5C;\n",
              "      --hover-fill-color: #FFFFFF;\n",
              "      --disabled-bg-color: #3B4455;\n",
              "      --disabled-fill-color: #666;\n",
              "  }\n",
              "\n",
              "  .colab-df-quickchart {\n",
              "    background-color: var(--bg-color);\n",
              "    border: none;\n",
              "    border-radius: 50%;\n",
              "    cursor: pointer;\n",
              "    display: none;\n",
              "    fill: var(--fill-color);\n",
              "    height: 32px;\n",
              "    padding: 0;\n",
              "    width: 32px;\n",
              "  }\n",
              "\n",
              "  .colab-df-quickchart:hover {\n",
              "    background-color: var(--hover-bg-color);\n",
              "    box-shadow: 0 1px 2px rgba(60, 64, 67, 0.3), 0 1px 3px 1px rgba(60, 64, 67, 0.15);\n",
              "    fill: var(--button-hover-fill-color);\n",
              "  }\n",
              "\n",
              "  .colab-df-quickchart-complete:disabled,\n",
              "  .colab-df-quickchart-complete:disabled:hover {\n",
              "    background-color: var(--disabled-bg-color);\n",
              "    fill: var(--disabled-fill-color);\n",
              "    box-shadow: none;\n",
              "  }\n",
              "\n",
              "  .colab-df-spinner {\n",
              "    border: 2px solid var(--fill-color);\n",
              "    border-color: transparent;\n",
              "    border-bottom-color: var(--fill-color);\n",
              "    animation:\n",
              "      spin 1s steps(1) infinite;\n",
              "  }\n",
              "\n",
              "  @keyframes spin {\n",
              "    0% {\n",
              "      border-color: transparent;\n",
              "      border-bottom-color: var(--fill-color);\n",
              "      border-left-color: var(--fill-color);\n",
              "    }\n",
              "    20% {\n",
              "      border-color: transparent;\n",
              "      border-left-color: var(--fill-color);\n",
              "      border-top-color: var(--fill-color);\n",
              "    }\n",
              "    30% {\n",
              "      border-color: transparent;\n",
              "      border-left-color: var(--fill-color);\n",
              "      border-top-color: var(--fill-color);\n",
              "      border-right-color: var(--fill-color);\n",
              "    }\n",
              "    40% {\n",
              "      border-color: transparent;\n",
              "      border-right-color: var(--fill-color);\n",
              "      border-top-color: var(--fill-color);\n",
              "    }\n",
              "    60% {\n",
              "      border-color: transparent;\n",
              "      border-right-color: var(--fill-color);\n",
              "    }\n",
              "    80% {\n",
              "      border-color: transparent;\n",
              "      border-right-color: var(--fill-color);\n",
              "      border-bottom-color: var(--fill-color);\n",
              "    }\n",
              "    90% {\n",
              "      border-color: transparent;\n",
              "      border-bottom-color: var(--fill-color);\n",
              "    }\n",
              "  }\n",
              "</style>\n",
              "\n",
              "      <script>\n",
              "        async function quickchart(key) {\n",
              "          const quickchartButtonEl =\n",
              "            document.querySelector('#' + key + ' button');\n",
              "          quickchartButtonEl.disabled = true;  // To prevent multiple clicks.\n",
              "          quickchartButtonEl.classList.add('colab-df-spinner');\n",
              "          try {\n",
              "            const charts = await google.colab.kernel.invokeFunction(\n",
              "                'suggestCharts', [key], {});\n",
              "          } catch (error) {\n",
              "            console.error('Error during call to suggestCharts:', error);\n",
              "          }\n",
              "          quickchartButtonEl.classList.remove('colab-df-spinner');\n",
              "          quickchartButtonEl.classList.add('colab-df-quickchart-complete');\n",
              "        }\n",
              "        (() => {\n",
              "          let quickchartButtonEl =\n",
              "            document.querySelector('#df-7e01eeb0-739e-4ca5-be39-2aee47593c06 button');\n",
              "          quickchartButtonEl.style.display =\n",
              "            google.colab.kernel.accessAllowed ? 'block' : 'none';\n",
              "        })();\n",
              "      </script>\n",
              "    </div>\n",
              "\n",
              "    </div>\n",
              "  </div>\n"
            ],
            "application/vnd.google.colaboratory.intrinsic+json": {
              "type": "dataframe",
              "summary": "{\n  \"name\": \"df_AI_ERA_WORKFORCE\",\n  \"rows\": 5,\n  \"fields\": [\n    {\n      \"column\": \"count\",\n      \"properties\": {\n        \"dtype\": \"number\",\n        \"std\": 0.0,\n        \"min\": 1000.0,\n        \"max\": 1000.0,\n        \"num_unique_values\": 1,\n        \"samples\": [\n          1000.0\n        ],\n        \"semantic_type\": \"\",\n        \"description\": \"\"\n      }\n    },\n    {\n      \"column\": \"mean\",\n      \"properties\": {\n        \"dtype\": \"number\",\n        \"std\": 17.083377135463586,\n        \"min\": 0.6176799999999999,\n        \"max\": 40.644,\n        \"num_unique_values\": 5,\n        \"samples\": [\n          19.545\n        ],\n        \"semantic_type\": \"\",\n        \"description\": \"\"\n      }\n    },\n    {\n      \"column\": \"std\",\n      \"properties\": {\n        \"dtype\": \"number\",\n        \"std\": 5.63606442850246,\n        \"min\": 0.16416445281353692,\n        \"max\": 11.259873878501466,\n        \"num_unique_values\": 5,\n        \"samples\": [\n          11.259873878501466\n        ],\n        \"semantic_type\": \"\",\n        \"description\": \"\"\n      }\n    },\n    {\n      \"column\": \"min\",\n      \"properties\": {\n        \"dtype\": \"number\",\n        \"std\": 9.635585088618127,\n        \"min\": 0.0,\n        \"max\": 22.0,\n        \"num_unique_values\": 4,\n        \"samples\": [\n          0.0\n        ],\n        \"semantic_type\": \"\",\n        \"description\": \"\"\n      }\n    },\n    {\n      \"column\": \"25%\",\n      \"properties\": {\n        \"dtype\": \"number\",\n        \"std\": 12.784678329938536,\n        \"min\": 0.7,\n        \"max\": 31.0,\n        \"num_unique_values\": 5,\n        \"samples\": [\n          10.0\n        ],\n        \"semantic_type\": \"\",\n        \"description\": \"\"\n      }\n    },\n    {\n      \"column\": \"50%\",\n      \"properties\": {\n        \"dtype\": \"number\",\n        \"std\": 16.719688992322794,\n        \"min\": 0.7,\n        \"max\": 40.0,\n        \"num_unique_values\": 5,\n        \"samples\": [\n          19.0\n        ],\n        \"semantic_type\": \"\",\n        \"description\": \"\"\n      }\n    },\n    {\n      \"column\": \"75%\",\n      \"properties\": {\n        \"dtype\": \"number\",\n        \"std\": 21.581890556668107,\n        \"min\": 0.7,\n        \"max\": 50.0,\n        \"num_unique_values\": 5,\n        \"samples\": [\n          29.0\n        ],\n        \"semantic_type\": \"\",\n        \"description\": \"\"\n      }\n    },\n    {\n      \"column\": \"max\",\n      \"properties\": {\n        \"dtype\": \"number\",\n        \"std\": 26.805932179277036,\n        \"min\": 0.7,\n        \"max\": 60.0,\n        \"num_unique_values\": 4,\n        \"samples\": [\n          42.0\n        ],\n        \"semantic_type\": \"\",\n        \"description\": \"\"\n      }\n    }\n  ]\n}"
            }
          },
          "metadata": {},
          "execution_count": 11
        }
      ],
      "source": [
        "# information about basic statics of the data\n",
        "df_AI_ERA_WORKFORCE.describe().T"
      ]
    },
    {
      "cell_type": "markdown",
      "id": "f41a0fc4-3419-4f1f-be24-5d8979140adc",
      "metadata": {
        "id": "f41a0fc4-3419-4f1f-be24-5d8979140adc"
      },
      "source": [
        "|**interpretation**\n",
        " - after observing this describe table we can cunclude that no as such outliar's"
      ]
    },
    {
      "cell_type": "markdown",
      "id": "3d566b85-1b34-486b-9968-a7148c7de18c",
      "metadata": {
        "id": "3d566b85-1b34-486b-9968-a7148c7de18c"
      },
      "source": [
        "### Data preprocessing:\n",
        "#### Data cleaning"
      ]
    },
    {
      "cell_type": "code",
      "execution_count": null,
      "id": "a1fcb271-bb83-4e06-b48b-94f25a92cdf3",
      "metadata": {
        "colab": {
          "base_uri": "https://localhost:8080/"
        },
        "id": "a1fcb271-bb83-4e06-b48b-94f25a92cdf3",
        "outputId": "051c837f-18ae-4e28-9012-9b8133533aba"
      },
      "outputs": [
        {
          "output_type": "execute_result",
          "data": {
            "text/plain": [
              "Index(['UserID', 'Age', 'Gender', 'Country', 'EducationLevel',\n",
              "       'CurrentJobTitle', 'YearsOfExperience', 'Industry', 'HasAISkills',\n",
              "       'AISkillsList', 'WillingnessToUpskill', 'UpskillingActionsTaken',\n",
              "       'SkillGapScore', 'FutureJobRisk', 'RecommendedLearningPath',\n",
              "       'LastProfileUpdate'],\n",
              "      dtype='object')"
            ]
          },
          "metadata": {},
          "execution_count": 12
        }
      ],
      "source": [
        "# perform the renaming action\n",
        "df_AI_ERA_WORKFORCE.columns"
      ]
    },
    {
      "cell_type": "code",
      "execution_count": null,
      "id": "2b0daf37-7cda-45a8-9dbb-ff6b08f7877b",
      "metadata": {
        "id": "2b0daf37-7cda-45a8-9dbb-ff6b08f7877b"
      },
      "outputs": [],
      "source": [
        "# Make a dictionary for new columns\n",
        "dictionary_1 = {'UserID': 'User_ID',\n",
        "               'Age': 'Age',\n",
        "               'Gender' : 'Gender',\n",
        "               'Country': 'Country',\n",
        "                'EducationLevel': 'Education_Level',\n",
        "                'CurrentJobTitle': 'Current_Job_Title',\n",
        "                'YearsOfExperience': 'Years_Of_Experience',\n",
        "                'Industry': 'Industry',\n",
        "                'HasAISkills': 'Has_AI_Skills',\n",
        "                'AISkillsList': 'AI_Skills_List',\n",
        "                'WillingnessToUpskill': 'Willingness_TO_Upskill',\n",
        "                'UpskillingActionTaken': 'Upskilling_Action_Tacken',\n",
        "                'SkillGapScore': 'Skill_Gap_Score',\n",
        "                'FutureJobRisk': 'Future_Job_Risk',\n",
        "                'RecommendedLearningPath': 'Recommended_Learning_Path',\n",
        "                'LastProfileUpdate': 'Last_Profile_Update'\n",
        "               }"
      ]
    },
    {
      "cell_type": "code",
      "execution_count": null,
      "id": "f3d6f134-14d5-4e91-9283-fa9d83792cd4",
      "metadata": {
        "id": "f3d6f134-14d5-4e91-9283-fa9d83792cd4"
      },
      "outputs": [],
      "source": [
        "df_AI_ERA_WORKFORCE = df_AI_ERA_WORKFORCE.rename(columns = dictionary_1)"
      ]
    },
    {
      "cell_type": "code",
      "execution_count": null,
      "id": "5ceeca50-74eb-4bcc-b40d-2adadfd336fa",
      "metadata": {
        "colab": {
          "base_uri": "https://localhost:8080/"
        },
        "id": "5ceeca50-74eb-4bcc-b40d-2adadfd336fa",
        "outputId": "1921c91d-ab6f-4ce8-c2d2-904604362e2b"
      },
      "outputs": [
        {
          "output_type": "execute_result",
          "data": {
            "text/plain": [
              "Index(['User_ID', 'Age', 'Gender', 'Country', 'Education_Level',\n",
              "       'Current_Job_Title', 'Years_Of_Experience', 'Industry', 'Has_AI_Skills',\n",
              "       'AI_Skills_List', 'Willingness_TO_Upskill', 'UpskillingActionsTaken',\n",
              "       'Skill_Gap_Score', 'Future_Job_Risk', 'Recommended_Learning_Path',\n",
              "       'Last_Profile_Update'],\n",
              "      dtype='object')"
            ]
          },
          "metadata": {},
          "execution_count": 15
        }
      ],
      "source": [
        "#Authentic check:\n",
        "df_AI_ERA_WORKFORCE.columns"
      ]
    },
    {
      "cell_type": "markdown",
      "id": "4121c773-c18f-43da-a3db-fd2965e7e07c",
      "metadata": {
        "id": "4121c773-c18f-43da-a3db-fd2965e7e07c"
      },
      "source": [
        "#### Null value handling"
      ]
    },
    {
      "cell_type": "code",
      "execution_count": null,
      "id": "3ba5e2fa-a6eb-426f-b5e1-33bcabd2c2ba",
      "metadata": {
        "colab": {
          "base_uri": "https://localhost:8080/",
          "height": 590
        },
        "id": "3ba5e2fa-a6eb-426f-b5e1-33bcabd2c2ba",
        "outputId": "63685c70-2e20-496c-ffdd-9042d01e8dc8"
      },
      "outputs": [
        {
          "output_type": "execute_result",
          "data": {
            "text/plain": [
              "User_ID                        0\n",
              "Age                            0\n",
              "Gender                         0\n",
              "Country                        0\n",
              "Education_Level                0\n",
              "Current_Job_Title              0\n",
              "Years_Of_Experience            0\n",
              "Industry                       0\n",
              "Has_AI_Skills                  0\n",
              "AI_Skills_List               790\n",
              "Willingness_TO_Upskill         0\n",
              "UpskillingActionsTaken         0\n",
              "Skill_Gap_Score                0\n",
              "Future_Job_Risk                0\n",
              "Recommended_Learning_Path    210\n",
              "Last_Profile_Update            0\n",
              "dtype: int64"
            ],
            "text/html": [
              "<div>\n",
              "<style scoped>\n",
              "    .dataframe tbody tr th:only-of-type {\n",
              "        vertical-align: middle;\n",
              "    }\n",
              "\n",
              "    .dataframe tbody tr th {\n",
              "        vertical-align: top;\n",
              "    }\n",
              "\n",
              "    .dataframe thead th {\n",
              "        text-align: right;\n",
              "    }\n",
              "</style>\n",
              "<table border=\"1\" class=\"dataframe\">\n",
              "  <thead>\n",
              "    <tr style=\"text-align: right;\">\n",
              "      <th></th>\n",
              "      <th>0</th>\n",
              "    </tr>\n",
              "  </thead>\n",
              "  <tbody>\n",
              "    <tr>\n",
              "      <th>User_ID</th>\n",
              "      <td>0</td>\n",
              "    </tr>\n",
              "    <tr>\n",
              "      <th>Age</th>\n",
              "      <td>0</td>\n",
              "    </tr>\n",
              "    <tr>\n",
              "      <th>Gender</th>\n",
              "      <td>0</td>\n",
              "    </tr>\n",
              "    <tr>\n",
              "      <th>Country</th>\n",
              "      <td>0</td>\n",
              "    </tr>\n",
              "    <tr>\n",
              "      <th>Education_Level</th>\n",
              "      <td>0</td>\n",
              "    </tr>\n",
              "    <tr>\n",
              "      <th>Current_Job_Title</th>\n",
              "      <td>0</td>\n",
              "    </tr>\n",
              "    <tr>\n",
              "      <th>Years_Of_Experience</th>\n",
              "      <td>0</td>\n",
              "    </tr>\n",
              "    <tr>\n",
              "      <th>Industry</th>\n",
              "      <td>0</td>\n",
              "    </tr>\n",
              "    <tr>\n",
              "      <th>Has_AI_Skills</th>\n",
              "      <td>0</td>\n",
              "    </tr>\n",
              "    <tr>\n",
              "      <th>AI_Skills_List</th>\n",
              "      <td>790</td>\n",
              "    </tr>\n",
              "    <tr>\n",
              "      <th>Willingness_TO_Upskill</th>\n",
              "      <td>0</td>\n",
              "    </tr>\n",
              "    <tr>\n",
              "      <th>UpskillingActionsTaken</th>\n",
              "      <td>0</td>\n",
              "    </tr>\n",
              "    <tr>\n",
              "      <th>Skill_Gap_Score</th>\n",
              "      <td>0</td>\n",
              "    </tr>\n",
              "    <tr>\n",
              "      <th>Future_Job_Risk</th>\n",
              "      <td>0</td>\n",
              "    </tr>\n",
              "    <tr>\n",
              "      <th>Recommended_Learning_Path</th>\n",
              "      <td>210</td>\n",
              "    </tr>\n",
              "    <tr>\n",
              "      <th>Last_Profile_Update</th>\n",
              "      <td>0</td>\n",
              "    </tr>\n",
              "  </tbody>\n",
              "</table>\n",
              "</div><br><label><b>dtype:</b> int64</label>"
            ]
          },
          "metadata": {},
          "execution_count": 16
        }
      ],
      "source": [
        "#check for null records\n",
        "df_AI_ERA_WORKFORCE.isnull().sum()"
      ]
    },
    {
      "cell_type": "code",
      "execution_count": null,
      "id": "04d6f66d-405b-4024-96cb-7e626e169d2e",
      "metadata": {
        "colab": {
          "base_uri": "https://localhost:8080/",
          "height": 590
        },
        "id": "04d6f66d-405b-4024-96cb-7e626e169d2e",
        "outputId": "0fa4b50c-182f-42cb-ddd8-39a4e0420809"
      },
      "outputs": [
        {
          "output_type": "execute_result",
          "data": {
            "text/plain": [
              "User_ID                       0.0\n",
              "Age                           0.0\n",
              "Gender                        0.0\n",
              "Country                       0.0\n",
              "Education_Level               0.0\n",
              "Current_Job_Title             0.0\n",
              "Years_Of_Experience           0.0\n",
              "Industry                      0.0\n",
              "Has_AI_Skills                 0.0\n",
              "AI_Skills_List               79.0\n",
              "Willingness_TO_Upskill        0.0\n",
              "UpskillingActionsTaken        0.0\n",
              "Skill_Gap_Score               0.0\n",
              "Future_Job_Risk               0.0\n",
              "Recommended_Learning_Path    21.0\n",
              "Last_Profile_Update           0.0\n",
              "dtype: float64"
            ],
            "text/html": [
              "<div>\n",
              "<style scoped>\n",
              "    .dataframe tbody tr th:only-of-type {\n",
              "        vertical-align: middle;\n",
              "    }\n",
              "\n",
              "    .dataframe tbody tr th {\n",
              "        vertical-align: top;\n",
              "    }\n",
              "\n",
              "    .dataframe thead th {\n",
              "        text-align: right;\n",
              "    }\n",
              "</style>\n",
              "<table border=\"1\" class=\"dataframe\">\n",
              "  <thead>\n",
              "    <tr style=\"text-align: right;\">\n",
              "      <th></th>\n",
              "      <th>0</th>\n",
              "    </tr>\n",
              "  </thead>\n",
              "  <tbody>\n",
              "    <tr>\n",
              "      <th>User_ID</th>\n",
              "      <td>0.0</td>\n",
              "    </tr>\n",
              "    <tr>\n",
              "      <th>Age</th>\n",
              "      <td>0.0</td>\n",
              "    </tr>\n",
              "    <tr>\n",
              "      <th>Gender</th>\n",
              "      <td>0.0</td>\n",
              "    </tr>\n",
              "    <tr>\n",
              "      <th>Country</th>\n",
              "      <td>0.0</td>\n",
              "    </tr>\n",
              "    <tr>\n",
              "      <th>Education_Level</th>\n",
              "      <td>0.0</td>\n",
              "    </tr>\n",
              "    <tr>\n",
              "      <th>Current_Job_Title</th>\n",
              "      <td>0.0</td>\n",
              "    </tr>\n",
              "    <tr>\n",
              "      <th>Years_Of_Experience</th>\n",
              "      <td>0.0</td>\n",
              "    </tr>\n",
              "    <tr>\n",
              "      <th>Industry</th>\n",
              "      <td>0.0</td>\n",
              "    </tr>\n",
              "    <tr>\n",
              "      <th>Has_AI_Skills</th>\n",
              "      <td>0.0</td>\n",
              "    </tr>\n",
              "    <tr>\n",
              "      <th>AI_Skills_List</th>\n",
              "      <td>79.0</td>\n",
              "    </tr>\n",
              "    <tr>\n",
              "      <th>Willingness_TO_Upskill</th>\n",
              "      <td>0.0</td>\n",
              "    </tr>\n",
              "    <tr>\n",
              "      <th>UpskillingActionsTaken</th>\n",
              "      <td>0.0</td>\n",
              "    </tr>\n",
              "    <tr>\n",
              "      <th>Skill_Gap_Score</th>\n",
              "      <td>0.0</td>\n",
              "    </tr>\n",
              "    <tr>\n",
              "      <th>Future_Job_Risk</th>\n",
              "      <td>0.0</td>\n",
              "    </tr>\n",
              "    <tr>\n",
              "      <th>Recommended_Learning_Path</th>\n",
              "      <td>21.0</td>\n",
              "    </tr>\n",
              "    <tr>\n",
              "      <th>Last_Profile_Update</th>\n",
              "      <td>0.0</td>\n",
              "    </tr>\n",
              "  </tbody>\n",
              "</table>\n",
              "</div><br><label><b>dtype:</b> float64</label>"
            ]
          },
          "metadata": {},
          "execution_count": 17
        }
      ],
      "source": [
        " # find percentage of missing record\n",
        "df_AI_ERA_WORKFORCE.isnull().sum() / len(df_AI_ERA_WORKFORCE) * 100"
      ]
    },
    {
      "cell_type": "markdown",
      "id": "ac8ecb95-c137-4ab7-ac92-22a9d56ce184",
      "metadata": {
        "id": "ac8ecb95-c137-4ab7-ac92-22a9d56ce184"
      },
      "source": [
        "** interpretation **\n",
        " - after observing the previos output i conclude that there is two column we have with missing records\n",
        " - the first column is AI_Skills_List in that we have 79% data is missing, so as per rules we have to drop this column\n",
        " - the second column is Recommended_Learning_Path, in that we have 21% data is missing, so as per rules we have to impute the missing records"
      ]
    },
    {
      "cell_type": "code",
      "execution_count": null,
      "id": "5de2d823-0056-43bd-8c05-2c03851ae354",
      "metadata": {
        "id": "5de2d823-0056-43bd-8c05-2c03851ae354"
      },
      "outputs": [],
      "source": [
        "# drop the column with 79% missing records\n",
        "df_AI_ERA_WORKFORCE = df_AI_ERA_WORKFORCE.drop('AI_Skills_List', axis = 1)"
      ]
    },
    {
      "cell_type": "code",
      "execution_count": null,
      "id": "123c4559-86dc-4dc6-9695-e8ee8292e5d5",
      "metadata": {
        "colab": {
          "base_uri": "https://localhost:8080/"
        },
        "id": "123c4559-86dc-4dc6-9695-e8ee8292e5d5",
        "outputId": "4aa4fb2a-d5c0-4441-8ec2-b581d153ee49"
      },
      "outputs": [
        {
          "output_type": "execute_result",
          "data": {
            "text/plain": [
              "Index(['User_ID', 'Age', 'Gender', 'Country', 'Education_Level',\n",
              "       'Current_Job_Title', 'Years_Of_Experience', 'Industry', 'Has_AI_Skills',\n",
              "       'Willingness_TO_Upskill', 'UpskillingActionsTaken', 'Skill_Gap_Score',\n",
              "       'Future_Job_Risk', 'Recommended_Learning_Path', 'Last_Profile_Update'],\n",
              "      dtype='object')"
            ]
          },
          "metadata": {},
          "execution_count": 19
        }
      ],
      "source": [
        "#Authentic check:\n",
        "df_AI_ERA_WORKFORCE.columns"
      ]
    },
    {
      "cell_type": "code",
      "execution_count": null,
      "id": "39a1ed91-cefe-4646-90db-340233c7e6e6",
      "metadata": {
        "colab": {
          "base_uri": "https://localhost:8080/"
        },
        "id": "39a1ed91-cefe-4646-90db-340233c7e6e6",
        "outputId": "d2534e3c-4a8b-40c1-a604-3a789d20a2c6"
      },
      "outputs": [
        {
          "output_type": "stream",
          "name": "stdout",
          "text": [
            "<class 'pandas.core.frame.DataFrame'>\n",
            "RangeIndex: 1000 entries, 0 to 999\n",
            "Data columns (total 15 columns):\n",
            " #   Column                     Non-Null Count  Dtype  \n",
            "---  ------                     --------------  -----  \n",
            " 0   User_ID                    1000 non-null   object \n",
            " 1   Age                        1000 non-null   int64  \n",
            " 2   Gender                     1000 non-null   object \n",
            " 3   Country                    1000 non-null   object \n",
            " 4   Education_Level            1000 non-null   object \n",
            " 5   Current_Job_Title          1000 non-null   object \n",
            " 6   Years_Of_Experience        1000 non-null   int64  \n",
            " 7   Industry                   1000 non-null   object \n",
            " 8   Has_AI_Skills              1000 non-null   bool   \n",
            " 9   Willingness_TO_Upskill     1000 non-null   int64  \n",
            " 10  UpskillingActionsTaken     1000 non-null   int64  \n",
            " 11  Skill_Gap_Score            1000 non-null   float64\n",
            " 12  Future_Job_Risk            1000 non-null   object \n",
            " 13  Recommended_Learning_Path  790 non-null    object \n",
            " 14  Last_Profile_Update        1000 non-null   object \n",
            "dtypes: bool(1), float64(1), int64(4), object(9)\n",
            "memory usage: 110.5+ KB\n"
          ]
        }
      ],
      "source": [
        "# check the data type\n",
        "df_AI_ERA_WORKFORCE.info()"
      ]
    },
    {
      "cell_type": "code",
      "execution_count": null,
      "id": "b5072b56-52a2-4573-83da-2f36a528ad7e",
      "metadata": {
        "colab": {
          "base_uri": "https://localhost:8080/",
          "height": 133
        },
        "id": "b5072b56-52a2-4573-83da-2f36a528ad7e",
        "outputId": "dd771897-251c-4ab4-b72f-e943c68a1a62"
      },
      "outputs": [
        {
          "output_type": "execute_result",
          "data": {
            "text/plain": [
              "0    Machine Learning, Deep Learning\n",
              "Name: Recommended_Learning_Path, dtype: object"
            ],
            "text/html": [
              "<div>\n",
              "<style scoped>\n",
              "    .dataframe tbody tr th:only-of-type {\n",
              "        vertical-align: middle;\n",
              "    }\n",
              "\n",
              "    .dataframe tbody tr th {\n",
              "        vertical-align: top;\n",
              "    }\n",
              "\n",
              "    .dataframe thead th {\n",
              "        text-align: right;\n",
              "    }\n",
              "</style>\n",
              "<table border=\"1\" class=\"dataframe\">\n",
              "  <thead>\n",
              "    <tr style=\"text-align: right;\">\n",
              "      <th></th>\n",
              "      <th>Recommended_Learning_Path</th>\n",
              "    </tr>\n",
              "  </thead>\n",
              "  <tbody>\n",
              "    <tr>\n",
              "      <th>0</th>\n",
              "      <td>Machine Learning, Deep Learning</td>\n",
              "    </tr>\n",
              "  </tbody>\n",
              "</table>\n",
              "</div><br><label><b>dtype:</b> object</label>"
            ]
          },
          "metadata": {},
          "execution_count": 21
        }
      ],
      "source": [
        "# find the mode :\n",
        "df_AI_ERA_WORKFORCE.Recommended_Learning_Path.mode()"
      ]
    },
    {
      "cell_type": "code",
      "execution_count": null,
      "id": "a863e179-116e-4004-99c6-9dfdb3bcfd40",
      "metadata": {
        "id": "a863e179-116e-4004-99c6-9dfdb3bcfd40"
      },
      "outputs": [],
      "source": [
        "# fill the missing records\n",
        "df_AI_ERA_WORKFORCE.Recommended_Learning_Path = df_AI_ERA_WORKFORCE.Recommended_Learning_Path.fillna('Machine Learning, Deep Learning')"
      ]
    },
    {
      "cell_type": "code",
      "execution_count": null,
      "id": "b64d36e5-6d61-4dfb-bb4b-a488af5058d7",
      "metadata": {
        "colab": {
          "base_uri": "https://localhost:8080/",
          "height": 560
        },
        "id": "b64d36e5-6d61-4dfb-bb4b-a488af5058d7",
        "outputId": "51e876d8-65ae-48fd-f7f3-c160ee988c37"
      },
      "outputs": [
        {
          "output_type": "execute_result",
          "data": {
            "text/plain": [
              "User_ID                      0\n",
              "Age                          0\n",
              "Gender                       0\n",
              "Country                      0\n",
              "Education_Level              0\n",
              "Current_Job_Title            0\n",
              "Years_Of_Experience          0\n",
              "Industry                     0\n",
              "Has_AI_Skills                0\n",
              "Willingness_TO_Upskill       0\n",
              "UpskillingActionsTaken       0\n",
              "Skill_Gap_Score              0\n",
              "Future_Job_Risk              0\n",
              "Recommended_Learning_Path    0\n",
              "Last_Profile_Update          0\n",
              "dtype: int64"
            ],
            "text/html": [
              "<div>\n",
              "<style scoped>\n",
              "    .dataframe tbody tr th:only-of-type {\n",
              "        vertical-align: middle;\n",
              "    }\n",
              "\n",
              "    .dataframe tbody tr th {\n",
              "        vertical-align: top;\n",
              "    }\n",
              "\n",
              "    .dataframe thead th {\n",
              "        text-align: right;\n",
              "    }\n",
              "</style>\n",
              "<table border=\"1\" class=\"dataframe\">\n",
              "  <thead>\n",
              "    <tr style=\"text-align: right;\">\n",
              "      <th></th>\n",
              "      <th>0</th>\n",
              "    </tr>\n",
              "  </thead>\n",
              "  <tbody>\n",
              "    <tr>\n",
              "      <th>User_ID</th>\n",
              "      <td>0</td>\n",
              "    </tr>\n",
              "    <tr>\n",
              "      <th>Age</th>\n",
              "      <td>0</td>\n",
              "    </tr>\n",
              "    <tr>\n",
              "      <th>Gender</th>\n",
              "      <td>0</td>\n",
              "    </tr>\n",
              "    <tr>\n",
              "      <th>Country</th>\n",
              "      <td>0</td>\n",
              "    </tr>\n",
              "    <tr>\n",
              "      <th>Education_Level</th>\n",
              "      <td>0</td>\n",
              "    </tr>\n",
              "    <tr>\n",
              "      <th>Current_Job_Title</th>\n",
              "      <td>0</td>\n",
              "    </tr>\n",
              "    <tr>\n",
              "      <th>Years_Of_Experience</th>\n",
              "      <td>0</td>\n",
              "    </tr>\n",
              "    <tr>\n",
              "      <th>Industry</th>\n",
              "      <td>0</td>\n",
              "    </tr>\n",
              "    <tr>\n",
              "      <th>Has_AI_Skills</th>\n",
              "      <td>0</td>\n",
              "    </tr>\n",
              "    <tr>\n",
              "      <th>Willingness_TO_Upskill</th>\n",
              "      <td>0</td>\n",
              "    </tr>\n",
              "    <tr>\n",
              "      <th>UpskillingActionsTaken</th>\n",
              "      <td>0</td>\n",
              "    </tr>\n",
              "    <tr>\n",
              "      <th>Skill_Gap_Score</th>\n",
              "      <td>0</td>\n",
              "    </tr>\n",
              "    <tr>\n",
              "      <th>Future_Job_Risk</th>\n",
              "      <td>0</td>\n",
              "    </tr>\n",
              "    <tr>\n",
              "      <th>Recommended_Learning_Path</th>\n",
              "      <td>0</td>\n",
              "    </tr>\n",
              "    <tr>\n",
              "      <th>Last_Profile_Update</th>\n",
              "      <td>0</td>\n",
              "    </tr>\n",
              "  </tbody>\n",
              "</table>\n",
              "</div><br><label><b>dtype:</b> int64</label>"
            ]
          },
          "metadata": {},
          "execution_count": 23
        }
      ],
      "source": [
        "# Authentic check\n",
        "df_AI_ERA_WORKFORCE.isnull().sum()"
      ]
    },
    {
      "cell_type": "markdown",
      "id": "04ea3fec-28ef-4ba5-a7e0-7624fa98106b",
      "metadata": {
        "id": "04ea3fec-28ef-4ba5-a7e0-7624fa98106b"
      },
      "source": [
        "### Prepare data for machine learning"
      ]
    },
    {
      "cell_type": "markdown",
      "id": "18c0ed6d-0f2f-4f09-ba8c-8dfa8aabfdc2",
      "metadata": {
        "id": "18c0ed6d-0f2f-4f09-ba8c-8dfa8aabfdc2"
      },
      "source": [
        "#### Segrigate the dependant and independent variable"
      ]
    },
    {
      "cell_type": "code",
      "execution_count": null,
      "id": "9e1d4af8-7bec-445d-8bba-af79809939ef",
      "metadata": {
        "id": "9e1d4af8-7bec-445d-8bba-af79809939ef"
      },
      "outputs": [],
      "source": [
        "# target Variable\n",
        "target = df_AI_ERA_WORKFORCE.Future_Job_Risk"
      ]
    },
    {
      "cell_type": "code",
      "execution_count": null,
      "id": "1761e722-11e8-4fac-a6ee-1d9cf87b2ce0",
      "metadata": {
        "id": "1761e722-11e8-4fac-a6ee-1d9cf87b2ce0"
      },
      "outputs": [],
      "source": [
        "# independent variable\n",
        "ind = df_AI_ERA_WORKFORCE.drop('Future_Job_Risk', axis = 1)"
      ]
    },
    {
      "cell_type": "code",
      "execution_count": null,
      "id": "5d1308b3-0d8d-4022-9894-c4d37edd5ac7",
      "metadata": {
        "colab": {
          "base_uri": "https://localhost:8080/"
        },
        "id": "5d1308b3-0d8d-4022-9894-c4d37edd5ac7",
        "outputId": "bc4b179d-960a-4f28-e222-6643abf3edc7"
      },
      "outputs": [
        {
          "output_type": "execute_result",
          "data": {
            "text/plain": [
              "Index(['User_ID', 'Age', 'Gender', 'Country', 'Education_Level',\n",
              "       'Current_Job_Title', 'Years_Of_Experience', 'Industry', 'Has_AI_Skills',\n",
              "       'Willingness_TO_Upskill', 'UpskillingActionsTaken', 'Skill_Gap_Score',\n",
              "       'Recommended_Learning_Path', 'Last_Profile_Update'],\n",
              "      dtype='object')"
            ]
          },
          "metadata": {},
          "execution_count": 26
        }
      ],
      "source": [
        "# check\n",
        "ind.columns"
      ]
    },
    {
      "cell_type": "markdown",
      "id": "bdd37464-05bf-4301-9942-4fe92e515204",
      "metadata": {
        "id": "bdd37464-05bf-4301-9942-4fe92e515204"
      },
      "source": [
        "#### Saperate num & char data"
      ]
    },
    {
      "cell_type": "code",
      "execution_count": null,
      "id": "43af2fbe-1d33-4a91-942f-c38f38a2e673",
      "metadata": {
        "id": "43af2fbe-1d33-4a91-942f-c38f38a2e673"
      },
      "outputs": [],
      "source": [
        "# Chat data\n",
        "df_cat = ind.select_dtypes(include = 'object')\n",
        "# Num data\n",
        "df_num = ind.select_dtypes(include = 'number')"
      ]
    },
    {
      "cell_type": "markdown",
      "id": "cf8a8d86-7a63-45c3-8aaa-9799f0ecc518",
      "metadata": {
        "id": "cf8a8d86-7a63-45c3-8aaa-9799f0ecc518"
      },
      "source": [
        "#### Encode Cat variable"
      ]
    },
    {
      "cell_type": "code",
      "execution_count": null,
      "id": "6dc078e3-cd08-4d94-9335-517b2990a2e0",
      "metadata": {
        "id": "6dc078e3-cd08-4d94-9335-517b2990a2e0"
      },
      "outputs": [],
      "source": [
        "# perform encoding\n",
        "df_encoded = pd.get_dummies(df_cat)\n"
      ]
    },
    {
      "cell_type": "code",
      "execution_count": null,
      "id": "e6ec41c0-3a81-49e9-bdcc-cbee03e37c84",
      "metadata": {
        "colab": {
          "base_uri": "https://localhost:8080/"
        },
        "id": "e6ec41c0-3a81-49e9-bdcc-cbee03e37c84",
        "outputId": "d183157e-8fce-4f96-84f0-0ab01a02d71e"
      },
      "outputs": [
        {
          "output_type": "execute_result",
          "data": {
            "text/plain": [
              "Index(['User_ID_USR-0001', 'User_ID_USR-0002', 'User_ID_USR-0003',\n",
              "       'User_ID_USR-0004', 'User_ID_USR-0005', 'User_ID_USR-0006',\n",
              "       'User_ID_USR-0007', 'User_ID_USR-0008', 'User_ID_USR-0009',\n",
              "       'User_ID_USR-0010',\n",
              "       ...\n",
              "       'Last_Profile_Update_2024-07-20', 'Last_Profile_Update_2024-07-21',\n",
              "       'Last_Profile_Update_2024-07-23', 'Last_Profile_Update_2024-07-24',\n",
              "       'Last_Profile_Update_2024-07-25', 'Last_Profile_Update_2024-07-27',\n",
              "       'Last_Profile_Update_2024-07-28', 'Last_Profile_Update_2024-07-29',\n",
              "       'Last_Profile_Update_2024-07-30', 'Last_Profile_Update_2024-07-31'],\n",
              "      dtype='object', length=1511)"
            ]
          },
          "metadata": {},
          "execution_count": 29
        }
      ],
      "source": [
        "#check\n",
        "df_encoded.columns"
      ]
    },
    {
      "cell_type": "code",
      "execution_count": null,
      "id": "24a9de5f-a989-4143-8cb4-9896939a04be",
      "metadata": {
        "id": "24a9de5f-a989-4143-8cb4-9896939a04be"
      },
      "outputs": [],
      "source": [
        "# do the reset index\n",
        "df_encoded = df_encoded.reset_index()"
      ]
    },
    {
      "cell_type": "markdown",
      "id": "f73f00af-75ce-4030-b5e1-537db7adcce3",
      "metadata": {
        "id": "f73f00af-75ce-4030-b5e1-537db7adcce3"
      },
      "source": [
        "#### Scaling on num data:"
      ]
    },
    {
      "cell_type": "code",
      "execution_count": null,
      "id": "892b4aa0-8dc5-4654-8325-af68a3089b96",
      "metadata": {
        "id": "892b4aa0-8dc5-4654-8325-af68a3089b96"
      },
      "outputs": [],
      "source": [
        "# import the standard scaller\n",
        "from sklearn.preprocessing import StandardScaler"
      ]
    },
    {
      "cell_type": "code",
      "execution_count": null,
      "id": "ceade8b2-369b-4388-a86c-8cfe5558fae6",
      "metadata": {
        "id": "ceade8b2-369b-4388-a86c-8cfe5558fae6"
      },
      "outputs": [],
      "source": [
        "# initiate the standard scaller\n",
        "ss = StandardScaler()"
      ]
    },
    {
      "cell_type": "code",
      "execution_count": null,
      "id": "993892a8-0261-4353-af2e-76a35670830a",
      "metadata": {
        "id": "993892a8-0261-4353-af2e-76a35670830a"
      },
      "outputs": [],
      "source": [
        "# transform the df_num\n",
        "scalle = ss.fit_transform(df_num)"
      ]
    },
    {
      "cell_type": "code",
      "execution_count": null,
      "id": "b175ca0b-4fa3-4c56-a2fc-8b1d91185038",
      "metadata": {
        "id": "b175ca0b-4fa3-4c56-a2fc-8b1d91185038"
      },
      "outputs": [],
      "source": [
        "# Make data frame for scaller\n",
        "df_scalled = pd.DataFrame(scalle, columns = df_num.columns)"
      ]
    },
    {
      "cell_type": "code",
      "execution_count": null,
      "id": "f2611a98-627f-4fcd-9567-12f8c35bf6e8",
      "metadata": {
        "colab": {
          "base_uri": "https://localhost:8080/",
          "height": 365
        },
        "id": "f2611a98-627f-4fcd-9567-12f8c35bf6e8",
        "outputId": "9496adcc-a2c9-441a-8e32-f68d388a1109"
      },
      "outputs": [
        {
          "output_type": "execute_result",
          "data": {
            "text/plain": [
              "        Age  Years_Of_Experience  Willingness_TO_Upskill  \\\n",
              "0 -1.416845            -1.114691                1.332345   \n",
              "1 -1.416845            -1.647823                1.332345   \n",
              "2 -0.511165            -0.670414                1.332345   \n",
              "3  0.847354             0.928983                0.263905   \n",
              "4 -0.601733            -0.581558                1.332345   \n",
              "\n",
              "   UpskillingActionsTaken  Skill_Gap_Score  \n",
              "0                1.260849         0.501699  \n",
              "1                1.260849         0.501699  \n",
              "2                1.877702         0.501699  \n",
              "3                0.643995         0.501699  \n",
              "4                0.027142         0.501699  "
            ],
            "text/html": [
              "\n",
              "  <div id=\"df-807ad948-5fde-442c-8537-6aa259137717\" class=\"colab-df-container\">\n",
              "    <div>\n",
              "<style scoped>\n",
              "    .dataframe tbody tr th:only-of-type {\n",
              "        vertical-align: middle;\n",
              "    }\n",
              "\n",
              "    .dataframe tbody tr th {\n",
              "        vertical-align: top;\n",
              "    }\n",
              "\n",
              "    .dataframe thead th {\n",
              "        text-align: right;\n",
              "    }\n",
              "</style>\n",
              "<table border=\"1\" class=\"dataframe\">\n",
              "  <thead>\n",
              "    <tr style=\"text-align: right;\">\n",
              "      <th></th>\n",
              "      <th>Age</th>\n",
              "      <th>Years_Of_Experience</th>\n",
              "      <th>Willingness_TO_Upskill</th>\n",
              "      <th>UpskillingActionsTaken</th>\n",
              "      <th>Skill_Gap_Score</th>\n",
              "    </tr>\n",
              "  </thead>\n",
              "  <tbody>\n",
              "    <tr>\n",
              "      <th>0</th>\n",
              "      <td>-1.416845</td>\n",
              "      <td>-1.114691</td>\n",
              "      <td>1.332345</td>\n",
              "      <td>1.260849</td>\n",
              "      <td>0.501699</td>\n",
              "    </tr>\n",
              "    <tr>\n",
              "      <th>1</th>\n",
              "      <td>-1.416845</td>\n",
              "      <td>-1.647823</td>\n",
              "      <td>1.332345</td>\n",
              "      <td>1.260849</td>\n",
              "      <td>0.501699</td>\n",
              "    </tr>\n",
              "    <tr>\n",
              "      <th>2</th>\n",
              "      <td>-0.511165</td>\n",
              "      <td>-0.670414</td>\n",
              "      <td>1.332345</td>\n",
              "      <td>1.877702</td>\n",
              "      <td>0.501699</td>\n",
              "    </tr>\n",
              "    <tr>\n",
              "      <th>3</th>\n",
              "      <td>0.847354</td>\n",
              "      <td>0.928983</td>\n",
              "      <td>0.263905</td>\n",
              "      <td>0.643995</td>\n",
              "      <td>0.501699</td>\n",
              "    </tr>\n",
              "    <tr>\n",
              "      <th>4</th>\n",
              "      <td>-0.601733</td>\n",
              "      <td>-0.581558</td>\n",
              "      <td>1.332345</td>\n",
              "      <td>0.027142</td>\n",
              "      <td>0.501699</td>\n",
              "    </tr>\n",
              "  </tbody>\n",
              "</table>\n",
              "</div>\n",
              "    <div class=\"colab-df-buttons\">\n",
              "\n",
              "  <div class=\"colab-df-container\">\n",
              "    <button class=\"colab-df-convert\" onclick=\"convertToInteractive('df-807ad948-5fde-442c-8537-6aa259137717')\"\n",
              "            title=\"Convert this dataframe to an interactive table.\"\n",
              "            style=\"display:none;\">\n",
              "\n",
              "  <svg xmlns=\"http://www.w3.org/2000/svg\" height=\"24px\" viewBox=\"0 -960 960 960\">\n",
              "    <path d=\"M120-120v-720h720v720H120Zm60-500h600v-160H180v160Zm220 220h160v-160H400v160Zm0 220h160v-160H400v160ZM180-400h160v-160H180v160Zm440 0h160v-160H620v160ZM180-180h160v-160H180v160Zm440 0h160v-160H620v160Z\"/>\n",
              "  </svg>\n",
              "    </button>\n",
              "\n",
              "  <style>\n",
              "    .colab-df-container {\n",
              "      display:flex;\n",
              "      gap: 12px;\n",
              "    }\n",
              "\n",
              "    .colab-df-convert {\n",
              "      background-color: #E8F0FE;\n",
              "      border: none;\n",
              "      border-radius: 50%;\n",
              "      cursor: pointer;\n",
              "      display: none;\n",
              "      fill: #1967D2;\n",
              "      height: 32px;\n",
              "      padding: 0 0 0 0;\n",
              "      width: 32px;\n",
              "    }\n",
              "\n",
              "    .colab-df-convert:hover {\n",
              "      background-color: #E2EBFA;\n",
              "      box-shadow: 0px 1px 2px rgba(60, 64, 67, 0.3), 0px 1px 3px 1px rgba(60, 64, 67, 0.15);\n",
              "      fill: #174EA6;\n",
              "    }\n",
              "\n",
              "    .colab-df-buttons div {\n",
              "      margin-bottom: 4px;\n",
              "    }\n",
              "\n",
              "    [theme=dark] .colab-df-convert {\n",
              "      background-color: #3B4455;\n",
              "      fill: #D2E3FC;\n",
              "    }\n",
              "\n",
              "    [theme=dark] .colab-df-convert:hover {\n",
              "      background-color: #434B5C;\n",
              "      box-shadow: 0px 1px 3px 1px rgba(0, 0, 0, 0.15);\n",
              "      filter: drop-shadow(0px 1px 2px rgba(0, 0, 0, 0.3));\n",
              "      fill: #FFFFFF;\n",
              "    }\n",
              "  </style>\n",
              "\n",
              "    <script>\n",
              "      const buttonEl =\n",
              "        document.querySelector('#df-807ad948-5fde-442c-8537-6aa259137717 button.colab-df-convert');\n",
              "      buttonEl.style.display =\n",
              "        google.colab.kernel.accessAllowed ? 'block' : 'none';\n",
              "\n",
              "      async function convertToInteractive(key) {\n",
              "        const element = document.querySelector('#df-807ad948-5fde-442c-8537-6aa259137717');\n",
              "        const dataTable =\n",
              "          await google.colab.kernel.invokeFunction('convertToInteractive',\n",
              "                                                    [key], {});\n",
              "        if (!dataTable) return;\n",
              "\n",
              "        const docLinkHtml = 'Like what you see? Visit the ' +\n",
              "          '<a target=\"_blank\" href=https://colab.research.google.com/notebooks/data_table.ipynb>data table notebook</a>'\n",
              "          + ' to learn more about interactive tables.';\n",
              "        element.innerHTML = '';\n",
              "        dataTable['output_type'] = 'display_data';\n",
              "        await google.colab.output.renderOutput(dataTable, element);\n",
              "        const docLink = document.createElement('div');\n",
              "        docLink.innerHTML = docLinkHtml;\n",
              "        element.appendChild(docLink);\n",
              "      }\n",
              "    </script>\n",
              "  </div>\n",
              "\n",
              "\n",
              "    <div id=\"df-3b92cc04-fabe-40f9-9b5d-ea7c69c28b7c\">\n",
              "      <button class=\"colab-df-quickchart\" onclick=\"quickchart('df-3b92cc04-fabe-40f9-9b5d-ea7c69c28b7c')\"\n",
              "                title=\"Suggest charts\"\n",
              "                style=\"display:none;\">\n",
              "\n",
              "<svg xmlns=\"http://www.w3.org/2000/svg\" height=\"24px\"viewBox=\"0 0 24 24\"\n",
              "     width=\"24px\">\n",
              "    <g>\n",
              "        <path d=\"M19 3H5c-1.1 0-2 .9-2 2v14c0 1.1.9 2 2 2h14c1.1 0 2-.9 2-2V5c0-1.1-.9-2-2-2zM9 17H7v-7h2v7zm4 0h-2V7h2v10zm4 0h-2v-4h2v4z\"/>\n",
              "    </g>\n",
              "</svg>\n",
              "      </button>\n",
              "\n",
              "<style>\n",
              "  .colab-df-quickchart {\n",
              "      --bg-color: #E8F0FE;\n",
              "      --fill-color: #1967D2;\n",
              "      --hover-bg-color: #E2EBFA;\n",
              "      --hover-fill-color: #174EA6;\n",
              "      --disabled-fill-color: #AAA;\n",
              "      --disabled-bg-color: #DDD;\n",
              "  }\n",
              "\n",
              "  [theme=dark] .colab-df-quickchart {\n",
              "      --bg-color: #3B4455;\n",
              "      --fill-color: #D2E3FC;\n",
              "      --hover-bg-color: #434B5C;\n",
              "      --hover-fill-color: #FFFFFF;\n",
              "      --disabled-bg-color: #3B4455;\n",
              "      --disabled-fill-color: #666;\n",
              "  }\n",
              "\n",
              "  .colab-df-quickchart {\n",
              "    background-color: var(--bg-color);\n",
              "    border: none;\n",
              "    border-radius: 50%;\n",
              "    cursor: pointer;\n",
              "    display: none;\n",
              "    fill: var(--fill-color);\n",
              "    height: 32px;\n",
              "    padding: 0;\n",
              "    width: 32px;\n",
              "  }\n",
              "\n",
              "  .colab-df-quickchart:hover {\n",
              "    background-color: var(--hover-bg-color);\n",
              "    box-shadow: 0 1px 2px rgba(60, 64, 67, 0.3), 0 1px 3px 1px rgba(60, 64, 67, 0.15);\n",
              "    fill: var(--button-hover-fill-color);\n",
              "  }\n",
              "\n",
              "  .colab-df-quickchart-complete:disabled,\n",
              "  .colab-df-quickchart-complete:disabled:hover {\n",
              "    background-color: var(--disabled-bg-color);\n",
              "    fill: var(--disabled-fill-color);\n",
              "    box-shadow: none;\n",
              "  }\n",
              "\n",
              "  .colab-df-spinner {\n",
              "    border: 2px solid var(--fill-color);\n",
              "    border-color: transparent;\n",
              "    border-bottom-color: var(--fill-color);\n",
              "    animation:\n",
              "      spin 1s steps(1) infinite;\n",
              "  }\n",
              "\n",
              "  @keyframes spin {\n",
              "    0% {\n",
              "      border-color: transparent;\n",
              "      border-bottom-color: var(--fill-color);\n",
              "      border-left-color: var(--fill-color);\n",
              "    }\n",
              "    20% {\n",
              "      border-color: transparent;\n",
              "      border-left-color: var(--fill-color);\n",
              "      border-top-color: var(--fill-color);\n",
              "    }\n",
              "    30% {\n",
              "      border-color: transparent;\n",
              "      border-left-color: var(--fill-color);\n",
              "      border-top-color: var(--fill-color);\n",
              "      border-right-color: var(--fill-color);\n",
              "    }\n",
              "    40% {\n",
              "      border-color: transparent;\n",
              "      border-right-color: var(--fill-color);\n",
              "      border-top-color: var(--fill-color);\n",
              "    }\n",
              "    60% {\n",
              "      border-color: transparent;\n",
              "      border-right-color: var(--fill-color);\n",
              "    }\n",
              "    80% {\n",
              "      border-color: transparent;\n",
              "      border-right-color: var(--fill-color);\n",
              "      border-bottom-color: var(--fill-color);\n",
              "    }\n",
              "    90% {\n",
              "      border-color: transparent;\n",
              "      border-bottom-color: var(--fill-color);\n",
              "    }\n",
              "  }\n",
              "</style>\n",
              "\n",
              "      <script>\n",
              "        async function quickchart(key) {\n",
              "          const quickchartButtonEl =\n",
              "            document.querySelector('#' + key + ' button');\n",
              "          quickchartButtonEl.disabled = true;  // To prevent multiple clicks.\n",
              "          quickchartButtonEl.classList.add('colab-df-spinner');\n",
              "          try {\n",
              "            const charts = await google.colab.kernel.invokeFunction(\n",
              "                'suggestCharts', [key], {});\n",
              "          } catch (error) {\n",
              "            console.error('Error during call to suggestCharts:', error);\n",
              "          }\n",
              "          quickchartButtonEl.classList.remove('colab-df-spinner');\n",
              "          quickchartButtonEl.classList.add('colab-df-quickchart-complete');\n",
              "        }\n",
              "        (() => {\n",
              "          let quickchartButtonEl =\n",
              "            document.querySelector('#df-3b92cc04-fabe-40f9-9b5d-ea7c69c28b7c button');\n",
              "          quickchartButtonEl.style.display =\n",
              "            google.colab.kernel.accessAllowed ? 'block' : 'none';\n",
              "        })();\n",
              "      </script>\n",
              "    </div>\n",
              "\n",
              "    </div>\n",
              "  </div>\n"
            ],
            "application/vnd.google.colaboratory.intrinsic+json": {
              "type": "dataframe",
              "variable_name": "df_scalled",
              "summary": "{\n  \"name\": \"df_scalled\",\n  \"rows\": 1000,\n  \"fields\": [\n    {\n      \"column\": \"Age\",\n      \"properties\": {\n        \"dtype\": \"number\",\n        \"std\": 1.000500375312776,\n        \"min\": -1.6885487935139076,\n        \"max\": 1.7530331713824931,\n        \"num_unique_values\": 39,\n        \"samples\": [\n          1.5718972784932088,\n          -1.5074129006246233,\n          -1.6885487935139076\n        ],\n        \"semantic_type\": \"\",\n        \"description\": \"\"\n      }\n    },\n    {\n      \"column\": \"Years_Of_Experience\",\n      \"properties\": {\n        \"dtype\": \"number\",\n        \"std\": 1.000500375312773,\n        \"min\": -1.7366784074574932,\n        \"max\": 1.995247564055155,\n        \"num_unique_values\": 43,\n        \"samples\": [\n          -0.04842618224939047,\n          0.3069953388470522,\n          -0.8481246047163865\n        ],\n        \"semantic_type\": \"\",\n        \"description\": \"\"\n      }\n    },\n    {\n      \"column\": \"Willingness_TO_Upskill\",\n      \"properties\": {\n        \"dtype\": \"number\",\n        \"std\": 1.0005003753127752,\n        \"min\": -1.8729754891696846,\n        \"max\": 1.332344800339188,\n        \"num_unique_values\": 4,\n        \"samples\": [\n          0.2639047038362304,\n          -0.8045353926667271,\n          1.332344800339188\n        ],\n        \"semantic_type\": \"\",\n        \"description\": \"\"\n      }\n    },\n    {\n      \"column\": \"UpskillingActionsTaken\",\n      \"properties\": {\n        \"dtype\": \"number\",\n        \"std\": 1.000500375312774,\n        \"min\": -1.2065654408949116,\n        \"max\": 1.8777020460552714,\n        \"num_unique_values\": 6,\n        \"samples\": [\n          1.2608485486652348,\n          1.8777020460552714,\n          -0.5897119435048749\n        ],\n        \"semantic_type\": \"\",\n        \"description\": \"\"\n      }\n    },\n    {\n      \"column\": \"Skill_Gap_Score\",\n      \"properties\": {\n        \"dtype\": \"number\",\n        \"std\": 1.0005003753127706,\n        \"min\": -2.8502760951407233,\n        \"max\": 0.50169929899073,\n        \"num_unique_values\": 35,\n        \"samples\": [\n          -2.7283860808086704,\n          -1.6313759518201951,\n          -2.5455510593105912\n        ],\n        \"semantic_type\": \"\",\n        \"description\": \"\"\n      }\n    }\n  ]\n}"
            }
          },
          "metadata": {},
          "execution_count": 35
        },
        {
          "output_type": "stream",
          "name": "stdout",
          "text": [
            "Error: Runtime no longer has a reference to this dataframe, please re-run this cell and try again.\n",
            "Error: Runtime no longer has a reference to this dataframe, please re-run this cell and try again.\n",
            "Error: Runtime no longer has a reference to this dataframe, please re-run this cell and try again.\n",
            "Error: Runtime no longer has a reference to this dataframe, please re-run this cell and try again.\n"
          ]
        }
      ],
      "source": [
        "#check\n",
        "df_scalled.head()"
      ]
    },
    {
      "cell_type": "code",
      "execution_count": null,
      "id": "8223fff9-fa2e-45b5-a306-19ffbe5f9986",
      "metadata": {
        "id": "8223fff9-fa2e-45b5-a306-19ffbe5f9986"
      },
      "outputs": [],
      "source": [
        "df_scalled = df_scalled.reset_index()"
      ]
    },
    {
      "cell_type": "code",
      "execution_count": null,
      "id": "080a54da-2d87-429a-bad3-bfcbdd824ebe",
      "metadata": {
        "id": "080a54da-2d87-429a-bad3-bfcbdd824ebe"
      },
      "outputs": [],
      "source": [
        "# concatinate df_encoded , df_scalled\n",
        "X = pd.concat((df_encoded, df_scalled), axis = 1)"
      ]
    },
    {
      "cell_type": "code",
      "execution_count": null,
      "id": "1d449f40-623d-4d72-8c79-175d5e458ffa",
      "metadata": {
        "colab": {
          "base_uri": "https://localhost:8080/",
          "height": 283
        },
        "id": "1d449f40-623d-4d72-8c79-175d5e458ffa",
        "outputId": "0411bcd8-4102-4305-e35a-145ea0e8dc89"
      },
      "outputs": [
        {
          "output_type": "execute_result",
          "data": {
            "text/plain": [
              "   index  User_ID_USR-0001  User_ID_USR-0002  User_ID_USR-0003  \\\n",
              "0      0              True             False             False   \n",
              "1      1             False              True             False   \n",
              "2      2             False             False              True   \n",
              "3      3             False             False             False   \n",
              "4      4             False             False             False   \n",
              "\n",
              "   User_ID_USR-0004  User_ID_USR-0005  User_ID_USR-0006  User_ID_USR-0007  \\\n",
              "0             False             False             False             False   \n",
              "1             False             False             False             False   \n",
              "2             False             False             False             False   \n",
              "3              True             False             False             False   \n",
              "4             False              True             False             False   \n",
              "\n",
              "   User_ID_USR-0008  User_ID_USR-0009  ...  Last_Profile_Update_2024-07-28  \\\n",
              "0             False             False  ...                           False   \n",
              "1             False             False  ...                           False   \n",
              "2             False             False  ...                           False   \n",
              "3             False             False  ...                           False   \n",
              "4             False             False  ...                           False   \n",
              "\n",
              "   Last_Profile_Update_2024-07-29  Last_Profile_Update_2024-07-30  \\\n",
              "0                           False                           False   \n",
              "1                           False                           False   \n",
              "2                           False                           False   \n",
              "3                           False                           False   \n",
              "4                           False                           False   \n",
              "\n",
              "   Last_Profile_Update_2024-07-31  index       Age  Years_Of_Experience  \\\n",
              "0                           False      0 -1.416845            -1.114691   \n",
              "1                           False      1 -1.416845            -1.647823   \n",
              "2                           False      2 -0.511165            -0.670414   \n",
              "3                           False      3  0.847354             0.928983   \n",
              "4                           False      4 -0.601733            -0.581558   \n",
              "\n",
              "   Willingness_TO_Upskill  UpskillingActionsTaken  Skill_Gap_Score  \n",
              "0                1.332345                1.260849         0.501699  \n",
              "1                1.332345                1.260849         0.501699  \n",
              "2                1.332345                1.877702         0.501699  \n",
              "3                0.263905                0.643995         0.501699  \n",
              "4                1.332345                0.027142         0.501699  \n",
              "\n",
              "[5 rows x 1518 columns]"
            ],
            "text/html": [
              "\n",
              "  <div id=\"df-6ef896d3-7faf-4d2d-b78c-4b1bfdc2801d\" class=\"colab-df-container\">\n",
              "    <div>\n",
              "<style scoped>\n",
              "    .dataframe tbody tr th:only-of-type {\n",
              "        vertical-align: middle;\n",
              "    }\n",
              "\n",
              "    .dataframe tbody tr th {\n",
              "        vertical-align: top;\n",
              "    }\n",
              "\n",
              "    .dataframe thead th {\n",
              "        text-align: right;\n",
              "    }\n",
              "</style>\n",
              "<table border=\"1\" class=\"dataframe\">\n",
              "  <thead>\n",
              "    <tr style=\"text-align: right;\">\n",
              "      <th></th>\n",
              "      <th>index</th>\n",
              "      <th>User_ID_USR-0001</th>\n",
              "      <th>User_ID_USR-0002</th>\n",
              "      <th>User_ID_USR-0003</th>\n",
              "      <th>User_ID_USR-0004</th>\n",
              "      <th>User_ID_USR-0005</th>\n",
              "      <th>User_ID_USR-0006</th>\n",
              "      <th>User_ID_USR-0007</th>\n",
              "      <th>User_ID_USR-0008</th>\n",
              "      <th>User_ID_USR-0009</th>\n",
              "      <th>...</th>\n",
              "      <th>Last_Profile_Update_2024-07-28</th>\n",
              "      <th>Last_Profile_Update_2024-07-29</th>\n",
              "      <th>Last_Profile_Update_2024-07-30</th>\n",
              "      <th>Last_Profile_Update_2024-07-31</th>\n",
              "      <th>index</th>\n",
              "      <th>Age</th>\n",
              "      <th>Years_Of_Experience</th>\n",
              "      <th>Willingness_TO_Upskill</th>\n",
              "      <th>UpskillingActionsTaken</th>\n",
              "      <th>Skill_Gap_Score</th>\n",
              "    </tr>\n",
              "  </thead>\n",
              "  <tbody>\n",
              "    <tr>\n",
              "      <th>0</th>\n",
              "      <td>0</td>\n",
              "      <td>True</td>\n",
              "      <td>False</td>\n",
              "      <td>False</td>\n",
              "      <td>False</td>\n",
              "      <td>False</td>\n",
              "      <td>False</td>\n",
              "      <td>False</td>\n",
              "      <td>False</td>\n",
              "      <td>False</td>\n",
              "      <td>...</td>\n",
              "      <td>False</td>\n",
              "      <td>False</td>\n",
              "      <td>False</td>\n",
              "      <td>False</td>\n",
              "      <td>0</td>\n",
              "      <td>-1.416845</td>\n",
              "      <td>-1.114691</td>\n",
              "      <td>1.332345</td>\n",
              "      <td>1.260849</td>\n",
              "      <td>0.501699</td>\n",
              "    </tr>\n",
              "    <tr>\n",
              "      <th>1</th>\n",
              "      <td>1</td>\n",
              "      <td>False</td>\n",
              "      <td>True</td>\n",
              "      <td>False</td>\n",
              "      <td>False</td>\n",
              "      <td>False</td>\n",
              "      <td>False</td>\n",
              "      <td>False</td>\n",
              "      <td>False</td>\n",
              "      <td>False</td>\n",
              "      <td>...</td>\n",
              "      <td>False</td>\n",
              "      <td>False</td>\n",
              "      <td>False</td>\n",
              "      <td>False</td>\n",
              "      <td>1</td>\n",
              "      <td>-1.416845</td>\n",
              "      <td>-1.647823</td>\n",
              "      <td>1.332345</td>\n",
              "      <td>1.260849</td>\n",
              "      <td>0.501699</td>\n",
              "    </tr>\n",
              "    <tr>\n",
              "      <th>2</th>\n",
              "      <td>2</td>\n",
              "      <td>False</td>\n",
              "      <td>False</td>\n",
              "      <td>True</td>\n",
              "      <td>False</td>\n",
              "      <td>False</td>\n",
              "      <td>False</td>\n",
              "      <td>False</td>\n",
              "      <td>False</td>\n",
              "      <td>False</td>\n",
              "      <td>...</td>\n",
              "      <td>False</td>\n",
              "      <td>False</td>\n",
              "      <td>False</td>\n",
              "      <td>False</td>\n",
              "      <td>2</td>\n",
              "      <td>-0.511165</td>\n",
              "      <td>-0.670414</td>\n",
              "      <td>1.332345</td>\n",
              "      <td>1.877702</td>\n",
              "      <td>0.501699</td>\n",
              "    </tr>\n",
              "    <tr>\n",
              "      <th>3</th>\n",
              "      <td>3</td>\n",
              "      <td>False</td>\n",
              "      <td>False</td>\n",
              "      <td>False</td>\n",
              "      <td>True</td>\n",
              "      <td>False</td>\n",
              "      <td>False</td>\n",
              "      <td>False</td>\n",
              "      <td>False</td>\n",
              "      <td>False</td>\n",
              "      <td>...</td>\n",
              "      <td>False</td>\n",
              "      <td>False</td>\n",
              "      <td>False</td>\n",
              "      <td>False</td>\n",
              "      <td>3</td>\n",
              "      <td>0.847354</td>\n",
              "      <td>0.928983</td>\n",
              "      <td>0.263905</td>\n",
              "      <td>0.643995</td>\n",
              "      <td>0.501699</td>\n",
              "    </tr>\n",
              "    <tr>\n",
              "      <th>4</th>\n",
              "      <td>4</td>\n",
              "      <td>False</td>\n",
              "      <td>False</td>\n",
              "      <td>False</td>\n",
              "      <td>False</td>\n",
              "      <td>True</td>\n",
              "      <td>False</td>\n",
              "      <td>False</td>\n",
              "      <td>False</td>\n",
              "      <td>False</td>\n",
              "      <td>...</td>\n",
              "      <td>False</td>\n",
              "      <td>False</td>\n",
              "      <td>False</td>\n",
              "      <td>False</td>\n",
              "      <td>4</td>\n",
              "      <td>-0.601733</td>\n",
              "      <td>-0.581558</td>\n",
              "      <td>1.332345</td>\n",
              "      <td>0.027142</td>\n",
              "      <td>0.501699</td>\n",
              "    </tr>\n",
              "  </tbody>\n",
              "</table>\n",
              "<p>5 rows × 1518 columns</p>\n",
              "</div>\n",
              "    <div class=\"colab-df-buttons\">\n",
              "\n",
              "  <div class=\"colab-df-container\">\n",
              "    <button class=\"colab-df-convert\" onclick=\"convertToInteractive('df-6ef896d3-7faf-4d2d-b78c-4b1bfdc2801d')\"\n",
              "            title=\"Convert this dataframe to an interactive table.\"\n",
              "            style=\"display:none;\">\n",
              "\n",
              "  <svg xmlns=\"http://www.w3.org/2000/svg\" height=\"24px\" viewBox=\"0 -960 960 960\">\n",
              "    <path d=\"M120-120v-720h720v720H120Zm60-500h600v-160H180v160Zm220 220h160v-160H400v160Zm0 220h160v-160H400v160ZM180-400h160v-160H180v160Zm440 0h160v-160H620v160ZM180-180h160v-160H180v160Zm440 0h160v-160H620v160Z\"/>\n",
              "  </svg>\n",
              "    </button>\n",
              "\n",
              "  <style>\n",
              "    .colab-df-container {\n",
              "      display:flex;\n",
              "      gap: 12px;\n",
              "    }\n",
              "\n",
              "    .colab-df-convert {\n",
              "      background-color: #E8F0FE;\n",
              "      border: none;\n",
              "      border-radius: 50%;\n",
              "      cursor: pointer;\n",
              "      display: none;\n",
              "      fill: #1967D2;\n",
              "      height: 32px;\n",
              "      padding: 0 0 0 0;\n",
              "      width: 32px;\n",
              "    }\n",
              "\n",
              "    .colab-df-convert:hover {\n",
              "      background-color: #E2EBFA;\n",
              "      box-shadow: 0px 1px 2px rgba(60, 64, 67, 0.3), 0px 1px 3px 1px rgba(60, 64, 67, 0.15);\n",
              "      fill: #174EA6;\n",
              "    }\n",
              "\n",
              "    .colab-df-buttons div {\n",
              "      margin-bottom: 4px;\n",
              "    }\n",
              "\n",
              "    [theme=dark] .colab-df-convert {\n",
              "      background-color: #3B4455;\n",
              "      fill: #D2E3FC;\n",
              "    }\n",
              "\n",
              "    [theme=dark] .colab-df-convert:hover {\n",
              "      background-color: #434B5C;\n",
              "      box-shadow: 0px 1px 3px 1px rgba(0, 0, 0, 0.15);\n",
              "      filter: drop-shadow(0px 1px 2px rgba(0, 0, 0, 0.3));\n",
              "      fill: #FFFFFF;\n",
              "    }\n",
              "  </style>\n",
              "\n",
              "    <script>\n",
              "      const buttonEl =\n",
              "        document.querySelector('#df-6ef896d3-7faf-4d2d-b78c-4b1bfdc2801d button.colab-df-convert');\n",
              "      buttonEl.style.display =\n",
              "        google.colab.kernel.accessAllowed ? 'block' : 'none';\n",
              "\n",
              "      async function convertToInteractive(key) {\n",
              "        const element = document.querySelector('#df-6ef896d3-7faf-4d2d-b78c-4b1bfdc2801d');\n",
              "        const dataTable =\n",
              "          await google.colab.kernel.invokeFunction('convertToInteractive',\n",
              "                                                    [key], {});\n",
              "        if (!dataTable) return;\n",
              "\n",
              "        const docLinkHtml = 'Like what you see? Visit the ' +\n",
              "          '<a target=\"_blank\" href=https://colab.research.google.com/notebooks/data_table.ipynb>data table notebook</a>'\n",
              "          + ' to learn more about interactive tables.';\n",
              "        element.innerHTML = '';\n",
              "        dataTable['output_type'] = 'display_data';\n",
              "        await google.colab.output.renderOutput(dataTable, element);\n",
              "        const docLink = document.createElement('div');\n",
              "        docLink.innerHTML = docLinkHtml;\n",
              "        element.appendChild(docLink);\n",
              "      }\n",
              "    </script>\n",
              "  </div>\n",
              "\n",
              "\n",
              "    <div id=\"df-8e1d2ecd-169a-482e-a48c-bb1a3de4013f\">\n",
              "      <button class=\"colab-df-quickchart\" onclick=\"quickchart('df-8e1d2ecd-169a-482e-a48c-bb1a3de4013f')\"\n",
              "                title=\"Suggest charts\"\n",
              "                style=\"display:none;\">\n",
              "\n",
              "<svg xmlns=\"http://www.w3.org/2000/svg\" height=\"24px\"viewBox=\"0 0 24 24\"\n",
              "     width=\"24px\">\n",
              "    <g>\n",
              "        <path d=\"M19 3H5c-1.1 0-2 .9-2 2v14c0 1.1.9 2 2 2h14c1.1 0 2-.9 2-2V5c0-1.1-.9-2-2-2zM9 17H7v-7h2v7zm4 0h-2V7h2v10zm4 0h-2v-4h2v4z\"/>\n",
              "    </g>\n",
              "</svg>\n",
              "      </button>\n",
              "\n",
              "<style>\n",
              "  .colab-df-quickchart {\n",
              "      --bg-color: #E8F0FE;\n",
              "      --fill-color: #1967D2;\n",
              "      --hover-bg-color: #E2EBFA;\n",
              "      --hover-fill-color: #174EA6;\n",
              "      --disabled-fill-color: #AAA;\n",
              "      --disabled-bg-color: #DDD;\n",
              "  }\n",
              "\n",
              "  [theme=dark] .colab-df-quickchart {\n",
              "      --bg-color: #3B4455;\n",
              "      --fill-color: #D2E3FC;\n",
              "      --hover-bg-color: #434B5C;\n",
              "      --hover-fill-color: #FFFFFF;\n",
              "      --disabled-bg-color: #3B4455;\n",
              "      --disabled-fill-color: #666;\n",
              "  }\n",
              "\n",
              "  .colab-df-quickchart {\n",
              "    background-color: var(--bg-color);\n",
              "    border: none;\n",
              "    border-radius: 50%;\n",
              "    cursor: pointer;\n",
              "    display: none;\n",
              "    fill: var(--fill-color);\n",
              "    height: 32px;\n",
              "    padding: 0;\n",
              "    width: 32px;\n",
              "  }\n",
              "\n",
              "  .colab-df-quickchart:hover {\n",
              "    background-color: var(--hover-bg-color);\n",
              "    box-shadow: 0 1px 2px rgba(60, 64, 67, 0.3), 0 1px 3px 1px rgba(60, 64, 67, 0.15);\n",
              "    fill: var(--button-hover-fill-color);\n",
              "  }\n",
              "\n",
              "  .colab-df-quickchart-complete:disabled,\n",
              "  .colab-df-quickchart-complete:disabled:hover {\n",
              "    background-color: var(--disabled-bg-color);\n",
              "    fill: var(--disabled-fill-color);\n",
              "    box-shadow: none;\n",
              "  }\n",
              "\n",
              "  .colab-df-spinner {\n",
              "    border: 2px solid var(--fill-color);\n",
              "    border-color: transparent;\n",
              "    border-bottom-color: var(--fill-color);\n",
              "    animation:\n",
              "      spin 1s steps(1) infinite;\n",
              "  }\n",
              "\n",
              "  @keyframes spin {\n",
              "    0% {\n",
              "      border-color: transparent;\n",
              "      border-bottom-color: var(--fill-color);\n",
              "      border-left-color: var(--fill-color);\n",
              "    }\n",
              "    20% {\n",
              "      border-color: transparent;\n",
              "      border-left-color: var(--fill-color);\n",
              "      border-top-color: var(--fill-color);\n",
              "    }\n",
              "    30% {\n",
              "      border-color: transparent;\n",
              "      border-left-color: var(--fill-color);\n",
              "      border-top-color: var(--fill-color);\n",
              "      border-right-color: var(--fill-color);\n",
              "    }\n",
              "    40% {\n",
              "      border-color: transparent;\n",
              "      border-right-color: var(--fill-color);\n",
              "      border-top-color: var(--fill-color);\n",
              "    }\n",
              "    60% {\n",
              "      border-color: transparent;\n",
              "      border-right-color: var(--fill-color);\n",
              "    }\n",
              "    80% {\n",
              "      border-color: transparent;\n",
              "      border-right-color: var(--fill-color);\n",
              "      border-bottom-color: var(--fill-color);\n",
              "    }\n",
              "    90% {\n",
              "      border-color: transparent;\n",
              "      border-bottom-color: var(--fill-color);\n",
              "    }\n",
              "  }\n",
              "</style>\n",
              "\n",
              "      <script>\n",
              "        async function quickchart(key) {\n",
              "          const quickchartButtonEl =\n",
              "            document.querySelector('#' + key + ' button');\n",
              "          quickchartButtonEl.disabled = true;  // To prevent multiple clicks.\n",
              "          quickchartButtonEl.classList.add('colab-df-spinner');\n",
              "          try {\n",
              "            const charts = await google.colab.kernel.invokeFunction(\n",
              "                'suggestCharts', [key], {});\n",
              "          } catch (error) {\n",
              "            console.error('Error during call to suggestCharts:', error);\n",
              "          }\n",
              "          quickchartButtonEl.classList.remove('colab-df-spinner');\n",
              "          quickchartButtonEl.classList.add('colab-df-quickchart-complete');\n",
              "        }\n",
              "        (() => {\n",
              "          let quickchartButtonEl =\n",
              "            document.querySelector('#df-8e1d2ecd-169a-482e-a48c-bb1a3de4013f button');\n",
              "          quickchartButtonEl.style.display =\n",
              "            google.colab.kernel.accessAllowed ? 'block' : 'none';\n",
              "        })();\n",
              "      </script>\n",
              "    </div>\n",
              "\n",
              "    </div>\n",
              "  </div>\n"
            ],
            "application/vnd.google.colaboratory.intrinsic+json": {
              "type": "dataframe",
              "variable_name": "X"
            }
          },
          "metadata": {},
          "execution_count": 38
        },
        {
          "output_type": "stream",
          "name": "stderr",
          "text": [
            "WARNING:root:Quickchart encountered unexpected dtypes in columns: \"(['index', 'index'],)\"\n"
          ]
        }
      ],
      "source": [
        "# check\n",
        "X.head()"
      ]
    },
    {
      "cell_type": "markdown",
      "id": "2aac9507-7e6e-460b-87a9-caaa0d2a8585",
      "metadata": {
        "id": "2aac9507-7e6e-460b-87a9-caaa0d2a8585"
      },
      "source": [
        "### Split the data in training and testing"
      ]
    },
    {
      "cell_type": "code",
      "execution_count": null,
      "id": "5b9161d0-e0eb-4466-bcd6-551cac0635b6",
      "metadata": {
        "id": "5b9161d0-e0eb-4466-bcd6-551cac0635b6"
      },
      "outputs": [],
      "source": [
        "# import train test split\n",
        "from sklearn.model_selection import train_test_split"
      ]
    },
    {
      "cell_type": "code",
      "execution_count": null,
      "id": "004bb369-3ad2-412a-847b-15c99d4ec181",
      "metadata": {
        "id": "004bb369-3ad2-412a-847b-15c99d4ec181"
      },
      "outputs": [],
      "source": [
        "# split the data\n",
        "X_train, X_test, y_train, y_test = train_test_split(X, target, test_size=0.2, random_state=42)"
      ]
    },
    {
      "cell_type": "markdown",
      "id": "6527032d-a284-42a8-8144-98c4933a339f",
      "metadata": {
        "id": "6527032d-a284-42a8-8144-98c4933a339f"
      },
      "source": [
        "## Base model selection"
      ]
    },
    {
      "cell_type": "markdown",
      "id": "5e1cb7cf-6f8d-4ac2-baee-d1fce628c295",
      "metadata": {
        "id": "5e1cb7cf-6f8d-4ac2-baee-d1fce628c295"
      },
      "source": [
        "### Decision tree"
      ]
    },
    {
      "cell_type": "code",
      "execution_count": null,
      "id": "7f0f851c-f202-4c1e-9de8-d6ca22a8db0c",
      "metadata": {
        "id": "7f0f851c-f202-4c1e-9de8-d6ca22a8db0c"
      },
      "outputs": [],
      "source": [
        "# import the model\n",
        "from sklearn.tree import DecisionTreeClassifier"
      ]
    },
    {
      "cell_type": "code",
      "execution_count": null,
      "id": "3025c102-a395-4492-84ab-1b515d58db6f",
      "metadata": {
        "id": "3025c102-a395-4492-84ab-1b515d58db6f"
      },
      "outputs": [],
      "source": [
        "# initiate the model\n",
        "DT = DecisionTreeClassifier()"
      ]
    },
    {
      "cell_type": "code",
      "execution_count": null,
      "id": "dee8a0aa-b2e7-45ab-9ebf-9cc3bd6a6ade",
      "metadata": {
        "id": "dee8a0aa-b2e7-45ab-9ebf-9cc3bd6a6ade"
      },
      "outputs": [],
      "source": [
        "# train the decision tree model\n",
        "model_DT =DT.fit(X_train,y_train)"
      ]
    },
    {
      "cell_type": "code",
      "execution_count": null,
      "id": "fddfdc62-9cb0-45ca-9535-ec624758b9b9",
      "metadata": {
        "id": "fddfdc62-9cb0-45ca-9535-ec624758b9b9"
      },
      "outputs": [],
      "source": [
        "#predection\n",
        "predected = model_DT.predict(X_test)"
      ]
    },
    {
      "cell_type": "code",
      "execution_count": null,
      "id": "8f866f18-0d43-4c9a-a96c-897a5f34ff72",
      "metadata": {
        "id": "8f866f18-0d43-4c9a-a96c-897a5f34ff72"
      },
      "outputs": [],
      "source": [
        "# import the metrics\n",
        "from sklearn.metrics import classification_report"
      ]
    },
    {
      "cell_type": "code",
      "execution_count": null,
      "id": "6c86343b-be73-4469-8724-60e02a7a3d44",
      "metadata": {
        "colab": {
          "base_uri": "https://localhost:8080/"
        },
        "id": "6c86343b-be73-4469-8724-60e02a7a3d44",
        "outputId": "b1440044-b5f8-45ed-9a4a-c1e51a569d19"
      },
      "outputs": [
        {
          "output_type": "stream",
          "name": "stdout",
          "text": [
            "              precision    recall  f1-score   support\n",
            "\n",
            "        High       0.71      0.87      0.79        63\n",
            "         Low       0.82      0.77      0.79        87\n",
            "      Medium       0.59      0.48      0.53        50\n",
            "\n",
            "    accuracy                           0.73       200\n",
            "   macro avg       0.71      0.71      0.70       200\n",
            "weighted avg       0.73      0.73      0.72       200\n",
            "\n"
          ]
        }
      ],
      "source": [
        "print(classification_report(predected, y_test))"
      ]
    },
    {
      "cell_type": "markdown",
      "id": "7a5e0fab-facc-45bc-a0ea-c44e7fbf506b",
      "metadata": {
        "id": "7a5e0fab-facc-45bc-a0ea-c44e7fbf506b"
      },
      "source": [
        "### random forest"
      ]
    },
    {
      "cell_type": "code",
      "execution_count": null,
      "id": "72b2d3b6-4b07-452b-825a-9637e37c316a",
      "metadata": {
        "id": "72b2d3b6-4b07-452b-825a-9637e37c316a"
      },
      "outputs": [],
      "source": [
        "# import the model\n",
        "from sklearn.ensemble import RandomForestClassifier"
      ]
    },
    {
      "cell_type": "code",
      "execution_count": null,
      "id": "8910537b-2a4c-4719-bfc8-3942d86b01fb",
      "metadata": {
        "id": "8910537b-2a4c-4719-bfc8-3942d86b01fb"
      },
      "outputs": [],
      "source": [
        "# initiate the model\n",
        "RF = RandomForestClassifier()"
      ]
    },
    {
      "cell_type": "code",
      "execution_count": null,
      "id": "f6b6da41-9da1-4204-bc2e-e193dd95686a",
      "metadata": {
        "id": "f6b6da41-9da1-4204-bc2e-e193dd95686a"
      },
      "outputs": [],
      "source": [
        "# train the random forest model\n",
        "model_RF = RF.fit(X_train, y_train)"
      ]
    },
    {
      "cell_type": "code",
      "execution_count": null,
      "id": "cf06a117-fd2f-49f7-8a44-d4bd81950f17",
      "metadata": {
        "id": "cf06a117-fd2f-49f7-8a44-d4bd81950f17"
      },
      "outputs": [],
      "source": [
        "#prediction\n",
        "prediction = model_RF.predict(X_test)"
      ]
    },
    {
      "cell_type": "code",
      "execution_count": null,
      "id": "95366db6-8497-4084-b1b4-559bad3f4dca",
      "metadata": {
        "colab": {
          "base_uri": "https://localhost:8080/"
        },
        "id": "95366db6-8497-4084-b1b4-559bad3f4dca",
        "outputId": "9a215afd-57da-4773-b887-d7f785c5845b"
      },
      "outputs": [
        {
          "output_type": "stream",
          "name": "stdout",
          "text": [
            "              precision    recall  f1-score   support\n",
            "\n",
            "        High       0.66      0.91      0.77        56\n",
            "         Low       0.82      0.75      0.78        89\n",
            "      Medium       0.63      0.47      0.54        55\n",
            "\n",
            "    accuracy                           0.72       200\n",
            "   macro avg       0.70      0.71      0.70       200\n",
            "weighted avg       0.72      0.72      0.71       200\n",
            "\n"
          ]
        }
      ],
      "source": [
        "print(classification_report(prediction, y_test))"
      ]
    },
    {
      "cell_type": "markdown",
      "id": "7330c4ff-8b92-4af9-a28c-2bffa937088a",
      "metadata": {
        "id": "7330c4ff-8b92-4af9-a28c-2bffa937088a"
      },
      "source": [
        "### Logistic regresion"
      ]
    },
    {
      "cell_type": "code",
      "execution_count": null,
      "id": "d9005a40-dfb0-431d-b072-4a2c81849289",
      "metadata": {
        "id": "d9005a40-dfb0-431d-b072-4a2c81849289"
      },
      "outputs": [],
      "source": [
        "# import the logistic regesion lib\n",
        "from sklearn.linear_model import LogisticRegression"
      ]
    },
    {
      "cell_type": "code",
      "execution_count": null,
      "id": "37aa1a06-31c2-4a8c-bcd5-f688d7600be9",
      "metadata": {
        "id": "37aa1a06-31c2-4a8c-bcd5-f688d7600be9"
      },
      "outputs": [],
      "source": [
        "# iniitiate the model\n",
        "LR = LogisticRegression()"
      ]
    },
    {
      "cell_type": "code",
      "execution_count": null,
      "id": "61c28f6d-c373-4862-a259-101490010886",
      "metadata": {
        "colab": {
          "base_uri": "https://localhost:8080/"
        },
        "id": "61c28f6d-c373-4862-a259-101490010886",
        "outputId": "ddc7d52c-fbcd-4d0b-c471-af41061b36d9"
      },
      "outputs": [
        {
          "output_type": "stream",
          "name": "stderr",
          "text": [
            "/usr/local/lib/python3.12/dist-packages/sklearn/linear_model/_logistic.py:465: ConvergenceWarning: lbfgs failed to converge (status=1):\n",
            "STOP: TOTAL NO. OF ITERATIONS REACHED LIMIT.\n",
            "\n",
            "Increase the number of iterations (max_iter) or scale the data as shown in:\n",
            "    https://scikit-learn.org/stable/modules/preprocessing.html\n",
            "Please also refer to the documentation for alternative solver options:\n",
            "    https://scikit-learn.org/stable/modules/linear_model.html#logistic-regression\n",
            "  n_iter_i = _check_optimize_result(\n"
          ]
        }
      ],
      "source": [
        "# train the model\n",
        "model_LR = LR.fit(X_train, y_train)"
      ]
    },
    {
      "cell_type": "code",
      "execution_count": null,
      "id": "9eb65638-8a7c-4cc2-bcb1-5777084b5b64",
      "metadata": {
        "id": "9eb65638-8a7c-4cc2-bcb1-5777084b5b64"
      },
      "outputs": [],
      "source": [
        "# predict the model\n",
        "prediction = model_LR.predict(X_test)"
      ]
    },
    {
      "cell_type": "code",
      "execution_count": null,
      "id": "3db82798-b640-4b1e-9784-1c020c3e65f2",
      "metadata": {
        "colab": {
          "base_uri": "https://localhost:8080/"
        },
        "id": "3db82798-b640-4b1e-9784-1c020c3e65f2",
        "outputId": "55a9a926-0b62-40d0-cdb6-deb37912faf5"
      },
      "outputs": [
        {
          "output_type": "stream",
          "name": "stdout",
          "text": [
            "              precision    recall  f1-score   support\n",
            "\n",
            "        High       0.71      0.92      0.80        60\n",
            "         Low       0.77      0.84      0.80        75\n",
            "      Medium       0.78      0.49      0.60        65\n",
            "\n",
            "    accuracy                           0.75       200\n",
            "   macro avg       0.75      0.75      0.74       200\n",
            "weighted avg       0.76      0.75      0.74       200\n",
            "\n"
          ]
        }
      ],
      "source": [
        "print(classification_report(prediction, y_test))"
      ]
    },
    {
      "cell_type": "markdown",
      "id": "f0735b55-5cc4-46d6-819f-ec8791ea4c72",
      "metadata": {
        "id": "f0735b55-5cc4-46d6-819f-ec8791ea4c72"
      },
      "source": [
        "### GaussianNB"
      ]
    },
    {
      "cell_type": "code",
      "execution_count": null,
      "id": "bcd0bdb2-46a9-4047-8f95-a0a4191414e4",
      "metadata": {
        "id": "bcd0bdb2-46a9-4047-8f95-a0a4191414e4"
      },
      "outputs": [],
      "source": [
        "# import the gaussian Naive Bayes\n",
        "from sklearn.naive_bayes import GaussianNB"
      ]
    },
    {
      "cell_type": "code",
      "execution_count": null,
      "id": "73002276-b946-458d-9ffb-a2ea9906dfc4",
      "metadata": {
        "id": "73002276-b946-458d-9ffb-a2ea9906dfc4"
      },
      "outputs": [],
      "source": [
        "# initiate the model\n",
        "GNB = GaussianNB()"
      ]
    },
    {
      "cell_type": "code",
      "execution_count": null,
      "id": "2e0a569a-7d43-4aaf-a611-8f4e0dd90d66",
      "metadata": {
        "id": "2e0a569a-7d43-4aaf-a611-8f4e0dd90d66"
      },
      "outputs": [],
      "source": [
        "model_GNB = GNB.fit(X_train, y_train)"
      ]
    },
    {
      "cell_type": "code",
      "execution_count": null,
      "id": "0111392d-954b-4635-8588-f5bc2aa127d3",
      "metadata": {
        "id": "0111392d-954b-4635-8588-f5bc2aa127d3"
      },
      "outputs": [],
      "source": [
        "prediction = model_GNB.predict(X_test)"
      ]
    },
    {
      "cell_type": "code",
      "execution_count": null,
      "id": "b5456322-0850-47cf-9a2c-d201e91d2002",
      "metadata": {
        "colab": {
          "base_uri": "https://localhost:8080/"
        },
        "id": "b5456322-0850-47cf-9a2c-d201e91d2002",
        "outputId": "b866def9-8560-4feb-ed70-104fec2a20bd"
      },
      "outputs": [
        {
          "output_type": "stream",
          "name": "stdout",
          "text": [
            "              precision    recall  f1-score   support\n",
            "\n",
            "        High       0.69      0.65      0.67        82\n",
            "         Low       0.52      0.78      0.63        55\n",
            "      Medium       0.49      0.32      0.38        63\n",
            "\n",
            "    accuracy                           0.58       200\n",
            "   macro avg       0.57      0.58      0.56       200\n",
            "weighted avg       0.58      0.58      0.57       200\n",
            "\n"
          ]
        }
      ],
      "source": [
        "print(classification_report(prediction, y_test))"
      ]
    },
    {
      "cell_type": "markdown",
      "source": [
        "### K-Nearest Neighbors (KNN):"
      ],
      "metadata": {
        "id": "ykt8J8pzTf92"
      },
      "id": "ykt8J8pzTf92"
    },
    {
      "cell_type": "code",
      "source": [
        "# import the KNN :\n",
        "from sklearn.neighbors import KNeighborsClassifier"
      ],
      "metadata": {
        "id": "s6tCboOdTnTc"
      },
      "id": "s6tCboOdTnTc",
      "execution_count": null,
      "outputs": []
    },
    {
      "cell_type": "code",
      "source": [
        "# initiate the model\n",
        "knn = KNeighborsClassifier(n_neighbors=3)"
      ],
      "metadata": {
        "id": "UZzDtWT1Txgv"
      },
      "id": "UZzDtWT1Txgv",
      "execution_count": null,
      "outputs": []
    },
    {
      "cell_type": "code",
      "source": [
        "# train the model\n",
        "model_knn = knn.fit(X_train, y_train)"
      ],
      "metadata": {
        "id": "EOiUZo6_T6w2"
      },
      "id": "EOiUZo6_T6w2",
      "execution_count": null,
      "outputs": []
    },
    {
      "cell_type": "code",
      "source": [
        "# predict the Model\n",
        "prediction = model_knn.predict(X_test)"
      ],
      "metadata": {
        "id": "JrK9TnDVUGME"
      },
      "id": "JrK9TnDVUGME",
      "execution_count": null,
      "outputs": []
    },
    {
      "cell_type": "code",
      "source": [
        "# classify report\n",
        "print(classification_report(prediction, y_test))"
      ],
      "metadata": {
        "colab": {
          "base_uri": "https://localhost:8080/"
        },
        "id": "ImeLzwIKUcbE",
        "outputId": "29a3e274-c142-41c9-c136-08e8c0f03ddd"
      },
      "id": "ImeLzwIKUcbE",
      "execution_count": null,
      "outputs": [
        {
          "output_type": "stream",
          "name": "stdout",
          "text": [
            "              precision    recall  f1-score   support\n",
            "\n",
            "        High       0.52      0.41      0.46        97\n",
            "         Low       0.37      0.47      0.41        64\n",
            "      Medium       0.17      0.18      0.17        39\n",
            "\n",
            "    accuracy                           0.39       200\n",
            "   macro avg       0.35      0.35      0.35       200\n",
            "weighted avg       0.40      0.39      0.39       200\n",
            "\n"
          ]
        }
      ]
    },
    {
      "cell_type": "code",
      "source": [
        "X_train_transform = ss.fit_transform(X_train)\n",
        "X_test_transform = ss.transform(X_test)\n",
        "\n",
        "train_error = []\n",
        "test_error = []\n",
        "for k in range (1,30):\n",
        "    knn = KNeighborsClassifier(n_neighbors=k)\n",
        "    knn.fit(X_train_transform, y_train)\n",
        "    y_pred_train = knn.predict(X_train_transform)\n",
        "    train_error.append (np.mean(y_pred_train!=y_train))\n",
        "    y_pred_test = knn.predict(X_test_transform)\n",
        "    test_error.append(np.mean(y_pred_test!=y_test))\n",
        "\n",
        "plt.plot(range(1,30), train_error, label= \"train\")\n",
        "plt.plot(range(1,30), test_error, label=\"test\")\n",
        "plt.xlabel('k Value')\n",
        "plt. ylabel('Error')\n",
        "plt.legend ()"
      ],
      "metadata": {
        "colab": {
          "base_uri": "https://localhost:8080/",
          "height": 486
        },
        "id": "x6_PmFYqWP6n",
        "outputId": "d8f60298-69c8-4064-90de-91f5f6a65f41"
      },
      "id": "x6_PmFYqWP6n",
      "execution_count": null,
      "outputs": [
        {
          "output_type": "execute_result",
          "data": {
            "text/plain": [
              "<matplotlib.legend.Legend at 0x7e90cf8a4e30>"
            ]
          },
          "metadata": {},
          "execution_count": 89
        },
        {
          "output_type": "display_data",
          "data": {
            "text/plain": [
              "<Figure size 640x480 with 1 Axes>"
            ],
            "image/png": "[encoded data removed]"
          },
          "metadata": {}
        }
      ]
    },
    {
      "cell_type": "code",
      "source": [
        "from sklearn.metrics import accuracy_score\n",
        "knn = KNeighborsClassifier(n_neighbors=3)\n",
        "knn.fit(X_train_transform,y_train)\n",
        "y_pred = knn.predict(X_test_transform)\n",
        "accuracy_score(y_test, y_pred)"
      ],
      "metadata": {
        "colab": {
          "base_uri": "https://localhost:8080/"
        },
        "id": "Uwbpzg0hYAQf",
        "outputId": "633144f4-bbd3-49f5-9080-bfae9dafa315"
      },
      "id": "Uwbpzg0hYAQf",
      "execution_count": null,
      "outputs": [
        {
          "output_type": "execute_result",
          "data": {
            "text/plain": [
              "0.47"
            ]
          },
          "metadata": {},
          "execution_count": 91
        }
      ]
    }
  ],
  "metadata": {
    "kernelspec": {
      "display_name": "Python 3",
      "name": "python3"
    },
    "language_info": {
      "name": "python"
    },
    "colab": {
      "provenance": [],
      "include_colab_link": true
    }
  },
  "nbformat": 4,
  "nbformat_minor": 5
}